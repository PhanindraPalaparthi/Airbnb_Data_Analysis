{
 "cells": [
  {
   "cell_type": "markdown",
   "id": "78dd84e2-93b9-41d6-85ad-e62bb5dc4344",
   "metadata": {},
   "source": [
    "# Cognetti - Hands on Assignment 1\n",
    "# AIT664\n",
    "# September 30, 2024"
   ]
  },
  {
   "cell_type": "markdown",
   "id": "fd8bf1eb-bf33-43ef-8927-60531e74109b",
   "metadata": {
    "tags": []
   },
   "source": [
    "---\n",
    "#### Setup and Imports"
   ]
  },
  {
   "cell_type": "code",
   "execution_count": 3,
   "id": "a511214c-01bd-472f-988d-e2cd80a94f46",
   "metadata": {
    "tags": []
   },
   "outputs": [],
   "source": [
    "import pandas as pd\n",
    "import os\n",
    "import seaborn as sns\n",
    "import matplotlib.pyplot as plt\n",
    "from sklearn.model_selection import train_test_split\n",
    "from sklearn.ensemble import RandomForestClassifier\n",
    "from sklearn.metrics import confusion_matrix, classification_report\n",
    "from IPython.display import display, HTML"
   ]
  },
  {
   "cell_type": "markdown",
   "id": "5139160a-091b-4d4e-963d-e9fb8f3411f2",
   "metadata": {},
   "source": [
    "Check Working Directory"
   ]
  },
  {
   "cell_type": "code",
   "execution_count": 5,
   "id": "7a74cdf3-f861-4bc4-bc41-5bc1b9c3f00d",
   "metadata": {
    "tags": []
   },
   "outputs": [
    {
     "data": {
      "text/plain": [
       "'C:\\\\Users\\\\iruka\\\\OneDrive\\\\Documents\\\\Graduate Program\\\\Fall 2024\\\\AIT 664\\\\Project\\\\Project Workspace'"
      ]
     },
     "execution_count": 5,
     "metadata": {},
     "output_type": "execute_result"
    }
   ],
   "source": [
    "os.getcwd()"
   ]
  },
  {
   "cell_type": "markdown",
   "id": "7f60ca79-2372-4f82-b5ef-dac8709ec443",
   "metadata": {},
   "source": [
    "# Data Inspection\n",
    "##  Load the Data"
   ]
  },
  {
   "cell_type": "code",
   "execution_count": 7,
   "id": "9152bc80-3977-4fb1-9da3-80fdcb520e34",
   "metadata": {
    "tags": []
   },
   "outputs": [],
   "source": [
    "#Low memory to false, otherwise error\n",
    "airbnb_df = pd.read_csv(\"Airbnb_Open_Data.csv\", sep=\",\",low_memory=False)"
   ]
  },
  {
   "cell_type": "code",
   "execution_count": 8,
   "id": "76856be5-f5ae-4bcf-af32-a085649b163d",
   "metadata": {
    "tags": []
   },
   "outputs": [
    {
     "data": {
      "text/html": [
       "<div>\n",
       "<style scoped>\n",
       "    .dataframe tbody tr th:only-of-type {\n",
       "        vertical-align: middle;\n",
       "    }\n",
       "\n",
       "    .dataframe tbody tr th {\n",
       "        vertical-align: top;\n",
       "    }\n",
       "\n",
       "    .dataframe thead th {\n",
       "        text-align: right;\n",
       "    }\n",
       "</style>\n",
       "<table border=\"1\" class=\"dataframe\">\n",
       "  <thead>\n",
       "    <tr style=\"text-align: right;\">\n",
       "      <th></th>\n",
       "      <th>id</th>\n",
       "      <th>NAME</th>\n",
       "      <th>host id</th>\n",
       "      <th>host_identity_verified</th>\n",
       "      <th>host name</th>\n",
       "      <th>neighbourhood group</th>\n",
       "      <th>neighbourhood</th>\n",
       "      <th>lat</th>\n",
       "      <th>long</th>\n",
       "      <th>country</th>\n",
       "      <th>...</th>\n",
       "      <th>service fee</th>\n",
       "      <th>minimum nights</th>\n",
       "      <th>number of reviews</th>\n",
       "      <th>last review</th>\n",
       "      <th>reviews per month</th>\n",
       "      <th>review rate number</th>\n",
       "      <th>calculated host listings count</th>\n",
       "      <th>availability 365</th>\n",
       "      <th>house_rules</th>\n",
       "      <th>license</th>\n",
       "    </tr>\n",
       "  </thead>\n",
       "  <tbody>\n",
       "    <tr>\n",
       "      <th>0</th>\n",
       "      <td>1001254</td>\n",
       "      <td>Clean &amp; quiet apt home by the park</td>\n",
       "      <td>80014485718</td>\n",
       "      <td>unconfirmed</td>\n",
       "      <td>Madaline</td>\n",
       "      <td>Brooklyn</td>\n",
       "      <td>Kensington</td>\n",
       "      <td>40.64749</td>\n",
       "      <td>-73.97237</td>\n",
       "      <td>United States</td>\n",
       "      <td>...</td>\n",
       "      <td>$193</td>\n",
       "      <td>10.0</td>\n",
       "      <td>9.0</td>\n",
       "      <td>10/19/2021</td>\n",
       "      <td>0.21</td>\n",
       "      <td>4.0</td>\n",
       "      <td>6.0</td>\n",
       "      <td>286.0</td>\n",
       "      <td>Clean up and treat the home the way you'd like...</td>\n",
       "      <td>NaN</td>\n",
       "    </tr>\n",
       "    <tr>\n",
       "      <th>1</th>\n",
       "      <td>1002102</td>\n",
       "      <td>Skylit Midtown Castle</td>\n",
       "      <td>52335172823</td>\n",
       "      <td>verified</td>\n",
       "      <td>Jenna</td>\n",
       "      <td>Manhattan</td>\n",
       "      <td>Midtown</td>\n",
       "      <td>40.75362</td>\n",
       "      <td>-73.98377</td>\n",
       "      <td>United States</td>\n",
       "      <td>...</td>\n",
       "      <td>$28</td>\n",
       "      <td>30.0</td>\n",
       "      <td>45.0</td>\n",
       "      <td>5/21/2022</td>\n",
       "      <td>0.38</td>\n",
       "      <td>4.0</td>\n",
       "      <td>2.0</td>\n",
       "      <td>228.0</td>\n",
       "      <td>Pet friendly but please confirm with me if the...</td>\n",
       "      <td>NaN</td>\n",
       "    </tr>\n",
       "    <tr>\n",
       "      <th>2</th>\n",
       "      <td>1002403</td>\n",
       "      <td>THE VILLAGE OF HARLEM....NEW YORK !</td>\n",
       "      <td>78829239556</td>\n",
       "      <td>NaN</td>\n",
       "      <td>Elise</td>\n",
       "      <td>Manhattan</td>\n",
       "      <td>Harlem</td>\n",
       "      <td>40.80902</td>\n",
       "      <td>-73.94190</td>\n",
       "      <td>United States</td>\n",
       "      <td>...</td>\n",
       "      <td>$124</td>\n",
       "      <td>3.0</td>\n",
       "      <td>0.0</td>\n",
       "      <td>NaN</td>\n",
       "      <td>NaN</td>\n",
       "      <td>5.0</td>\n",
       "      <td>1.0</td>\n",
       "      <td>352.0</td>\n",
       "      <td>I encourage you to use my kitchen, cooking and...</td>\n",
       "      <td>NaN</td>\n",
       "    </tr>\n",
       "    <tr>\n",
       "      <th>3</th>\n",
       "      <td>1002755</td>\n",
       "      <td>NaN</td>\n",
       "      <td>85098326012</td>\n",
       "      <td>unconfirmed</td>\n",
       "      <td>Garry</td>\n",
       "      <td>Brooklyn</td>\n",
       "      <td>Clinton Hill</td>\n",
       "      <td>40.68514</td>\n",
       "      <td>-73.95976</td>\n",
       "      <td>United States</td>\n",
       "      <td>...</td>\n",
       "      <td>$74</td>\n",
       "      <td>30.0</td>\n",
       "      <td>270.0</td>\n",
       "      <td>7/5/2019</td>\n",
       "      <td>4.64</td>\n",
       "      <td>4.0</td>\n",
       "      <td>1.0</td>\n",
       "      <td>322.0</td>\n",
       "      <td>NaN</td>\n",
       "      <td>NaN</td>\n",
       "    </tr>\n",
       "    <tr>\n",
       "      <th>4</th>\n",
       "      <td>1003689</td>\n",
       "      <td>Entire Apt: Spacious Studio/Loft by central park</td>\n",
       "      <td>92037596077</td>\n",
       "      <td>verified</td>\n",
       "      <td>Lyndon</td>\n",
       "      <td>Manhattan</td>\n",
       "      <td>East Harlem</td>\n",
       "      <td>40.79851</td>\n",
       "      <td>-73.94399</td>\n",
       "      <td>United States</td>\n",
       "      <td>...</td>\n",
       "      <td>$41</td>\n",
       "      <td>10.0</td>\n",
       "      <td>9.0</td>\n",
       "      <td>11/19/2018</td>\n",
       "      <td>0.10</td>\n",
       "      <td>3.0</td>\n",
       "      <td>1.0</td>\n",
       "      <td>289.0</td>\n",
       "      <td>Please no smoking in the house, porch or on th...</td>\n",
       "      <td>NaN</td>\n",
       "    </tr>\n",
       "    <tr>\n",
       "      <th>5</th>\n",
       "      <td>1004098</td>\n",
       "      <td>Large Cozy 1 BR Apartment In Midtown East</td>\n",
       "      <td>45498551794</td>\n",
       "      <td>verified</td>\n",
       "      <td>Michelle</td>\n",
       "      <td>Manhattan</td>\n",
       "      <td>Murray Hill</td>\n",
       "      <td>40.74767</td>\n",
       "      <td>-73.97500</td>\n",
       "      <td>United States</td>\n",
       "      <td>...</td>\n",
       "      <td>$115</td>\n",
       "      <td>3.0</td>\n",
       "      <td>74.0</td>\n",
       "      <td>6/22/2019</td>\n",
       "      <td>0.59</td>\n",
       "      <td>3.0</td>\n",
       "      <td>1.0</td>\n",
       "      <td>374.0</td>\n",
       "      <td>No smoking, please, and no drugs.</td>\n",
       "      <td>NaN</td>\n",
       "    </tr>\n",
       "    <tr>\n",
       "      <th>6</th>\n",
       "      <td>1004650</td>\n",
       "      <td>BlissArtsSpace!</td>\n",
       "      <td>61300605564</td>\n",
       "      <td>NaN</td>\n",
       "      <td>Alberta</td>\n",
       "      <td>Brooklyn</td>\n",
       "      <td>Bedford-Stuyvesant</td>\n",
       "      <td>40.68688</td>\n",
       "      <td>-73.95596</td>\n",
       "      <td>United States</td>\n",
       "      <td>...</td>\n",
       "      <td>$14</td>\n",
       "      <td>45.0</td>\n",
       "      <td>49.0</td>\n",
       "      <td>10/5/2017</td>\n",
       "      <td>0.40</td>\n",
       "      <td>5.0</td>\n",
       "      <td>1.0</td>\n",
       "      <td>224.0</td>\n",
       "      <td>Please no shoes in the house so bring slippers...</td>\n",
       "      <td>NaN</td>\n",
       "    </tr>\n",
       "    <tr>\n",
       "      <th>7</th>\n",
       "      <td>1005202</td>\n",
       "      <td>BlissArtsSpace!</td>\n",
       "      <td>90821839709</td>\n",
       "      <td>unconfirmed</td>\n",
       "      <td>Emma</td>\n",
       "      <td>Brooklyn</td>\n",
       "      <td>Bedford-Stuyvesant</td>\n",
       "      <td>40.68688</td>\n",
       "      <td>-73.95596</td>\n",
       "      <td>United States</td>\n",
       "      <td>...</td>\n",
       "      <td>$212</td>\n",
       "      <td>45.0</td>\n",
       "      <td>49.0</td>\n",
       "      <td>10/5/2017</td>\n",
       "      <td>0.40</td>\n",
       "      <td>5.0</td>\n",
       "      <td>1.0</td>\n",
       "      <td>219.0</td>\n",
       "      <td>House Guidelines for our BnB We are delighted ...</td>\n",
       "      <td>NaN</td>\n",
       "    </tr>\n",
       "    <tr>\n",
       "      <th>8</th>\n",
       "      <td>1005754</td>\n",
       "      <td>Large Furnished Room Near B'way</td>\n",
       "      <td>79384379533</td>\n",
       "      <td>verified</td>\n",
       "      <td>Evelyn</td>\n",
       "      <td>Manhattan</td>\n",
       "      <td>Hell's Kitchen</td>\n",
       "      <td>40.76489</td>\n",
       "      <td>-73.98493</td>\n",
       "      <td>United States</td>\n",
       "      <td>...</td>\n",
       "      <td>$204</td>\n",
       "      <td>2.0</td>\n",
       "      <td>430.0</td>\n",
       "      <td>6/24/2019</td>\n",
       "      <td>3.47</td>\n",
       "      <td>3.0</td>\n",
       "      <td>1.0</td>\n",
       "      <td>180.0</td>\n",
       "      <td>- Please clean up after yourself when using th...</td>\n",
       "      <td>NaN</td>\n",
       "    </tr>\n",
       "    <tr>\n",
       "      <th>9</th>\n",
       "      <td>1006307</td>\n",
       "      <td>Cozy Clean Guest Room - Family Apt</td>\n",
       "      <td>75527839483</td>\n",
       "      <td>unconfirmed</td>\n",
       "      <td>Carl</td>\n",
       "      <td>Manhattan</td>\n",
       "      <td>Upper West Side</td>\n",
       "      <td>40.80178</td>\n",
       "      <td>-73.96723</td>\n",
       "      <td>United States</td>\n",
       "      <td>...</td>\n",
       "      <td>$58</td>\n",
       "      <td>2.0</td>\n",
       "      <td>118.0</td>\n",
       "      <td>7/21/2017</td>\n",
       "      <td>0.99</td>\n",
       "      <td>5.0</td>\n",
       "      <td>1.0</td>\n",
       "      <td>375.0</td>\n",
       "      <td>NO SMOKING OR PETS ANYWHERE ON THE PROPERTY 1....</td>\n",
       "      <td>NaN</td>\n",
       "    </tr>\n",
       "  </tbody>\n",
       "</table>\n",
       "<p>10 rows × 26 columns</p>\n",
       "</div>"
      ],
      "text/plain": [
       "        id                                              NAME      host id  \\\n",
       "0  1001254                Clean & quiet apt home by the park  80014485718   \n",
       "1  1002102                             Skylit Midtown Castle  52335172823   \n",
       "2  1002403               THE VILLAGE OF HARLEM....NEW YORK !  78829239556   \n",
       "3  1002755                                               NaN  85098326012   \n",
       "4  1003689  Entire Apt: Spacious Studio/Loft by central park  92037596077   \n",
       "5  1004098         Large Cozy 1 BR Apartment In Midtown East  45498551794   \n",
       "6  1004650                                   BlissArtsSpace!  61300605564   \n",
       "7  1005202                                   BlissArtsSpace!  90821839709   \n",
       "8  1005754                   Large Furnished Room Near B'way  79384379533   \n",
       "9  1006307                Cozy Clean Guest Room - Family Apt  75527839483   \n",
       "\n",
       "  host_identity_verified host name neighbourhood group       neighbourhood  \\\n",
       "0            unconfirmed  Madaline            Brooklyn          Kensington   \n",
       "1               verified     Jenna           Manhattan             Midtown   \n",
       "2                    NaN     Elise           Manhattan              Harlem   \n",
       "3            unconfirmed     Garry            Brooklyn        Clinton Hill   \n",
       "4               verified    Lyndon           Manhattan         East Harlem   \n",
       "5               verified  Michelle           Manhattan         Murray Hill   \n",
       "6                    NaN   Alberta            Brooklyn  Bedford-Stuyvesant   \n",
       "7            unconfirmed      Emma            Brooklyn  Bedford-Stuyvesant   \n",
       "8               verified    Evelyn           Manhattan      Hell's Kitchen   \n",
       "9            unconfirmed      Carl           Manhattan     Upper West Side   \n",
       "\n",
       "        lat      long        country  ... service fee minimum nights  \\\n",
       "0  40.64749 -73.97237  United States  ...       $193            10.0   \n",
       "1  40.75362 -73.98377  United States  ...        $28            30.0   \n",
       "2  40.80902 -73.94190  United States  ...       $124             3.0   \n",
       "3  40.68514 -73.95976  United States  ...        $74            30.0   \n",
       "4  40.79851 -73.94399  United States  ...        $41            10.0   \n",
       "5  40.74767 -73.97500  United States  ...       $115             3.0   \n",
       "6  40.68688 -73.95596  United States  ...        $14            45.0   \n",
       "7  40.68688 -73.95596  United States  ...       $212            45.0   \n",
       "8  40.76489 -73.98493  United States  ...       $204             2.0   \n",
       "9  40.80178 -73.96723  United States  ...        $58             2.0   \n",
       "\n",
       "  number of reviews last review  reviews per month review rate number  \\\n",
       "0               9.0  10/19/2021               0.21                4.0   \n",
       "1              45.0   5/21/2022               0.38                4.0   \n",
       "2               0.0         NaN                NaN                5.0   \n",
       "3             270.0    7/5/2019               4.64                4.0   \n",
       "4               9.0  11/19/2018               0.10                3.0   \n",
       "5              74.0   6/22/2019               0.59                3.0   \n",
       "6              49.0   10/5/2017               0.40                5.0   \n",
       "7              49.0   10/5/2017               0.40                5.0   \n",
       "8             430.0   6/24/2019               3.47                3.0   \n",
       "9             118.0   7/21/2017               0.99                5.0   \n",
       "\n",
       "  calculated host listings count  availability 365  \\\n",
       "0                            6.0             286.0   \n",
       "1                            2.0             228.0   \n",
       "2                            1.0             352.0   \n",
       "3                            1.0             322.0   \n",
       "4                            1.0             289.0   \n",
       "5                            1.0             374.0   \n",
       "6                            1.0             224.0   \n",
       "7                            1.0             219.0   \n",
       "8                            1.0             180.0   \n",
       "9                            1.0             375.0   \n",
       "\n",
       "                                         house_rules license  \n",
       "0  Clean up and treat the home the way you'd like...     NaN  \n",
       "1  Pet friendly but please confirm with me if the...     NaN  \n",
       "2  I encourage you to use my kitchen, cooking and...     NaN  \n",
       "3                                                NaN     NaN  \n",
       "4  Please no smoking in the house, porch or on th...     NaN  \n",
       "5                  No smoking, please, and no drugs.     NaN  \n",
       "6  Please no shoes in the house so bring slippers...     NaN  \n",
       "7  House Guidelines for our BnB We are delighted ...     NaN  \n",
       "8  - Please clean up after yourself when using th...     NaN  \n",
       "9  NO SMOKING OR PETS ANYWHERE ON THE PROPERTY 1....     NaN  \n",
       "\n",
       "[10 rows x 26 columns]"
      ]
     },
     "execution_count": 8,
     "metadata": {},
     "output_type": "execute_result"
    }
   ],
   "source": [
    "airbnb_df.head(10)"
   ]
  },
  {
   "cell_type": "code",
   "execution_count": 9,
   "id": "bf3114dd-eb7b-4b69-b6d2-f768dab20d36",
   "metadata": {
    "tags": []
   },
   "outputs": [
    {
     "data": {
      "text/html": [
       "<div>\n",
       "<style scoped>\n",
       "    .dataframe tbody tr th:only-of-type {\n",
       "        vertical-align: middle;\n",
       "    }\n",
       "\n",
       "    .dataframe tbody tr th {\n",
       "        vertical-align: top;\n",
       "    }\n",
       "\n",
       "    .dataframe thead th {\n",
       "        text-align: right;\n",
       "    }\n",
       "</style>\n",
       "<table border=\"1\" class=\"dataframe\">\n",
       "  <thead>\n",
       "    <tr style=\"text-align: right;\">\n",
       "      <th></th>\n",
       "      <th>id</th>\n",
       "      <th>NAME</th>\n",
       "      <th>host id</th>\n",
       "      <th>host_identity_verified</th>\n",
       "      <th>host name</th>\n",
       "      <th>neighbourhood group</th>\n",
       "      <th>neighbourhood</th>\n",
       "      <th>lat</th>\n",
       "      <th>long</th>\n",
       "      <th>country</th>\n",
       "      <th>...</th>\n",
       "      <th>service fee</th>\n",
       "      <th>minimum nights</th>\n",
       "      <th>number of reviews</th>\n",
       "      <th>last review</th>\n",
       "      <th>reviews per month</th>\n",
       "      <th>review rate number</th>\n",
       "      <th>calculated host listings count</th>\n",
       "      <th>availability 365</th>\n",
       "      <th>house_rules</th>\n",
       "      <th>license</th>\n",
       "    </tr>\n",
       "  </thead>\n",
       "  <tbody>\n",
       "    <tr>\n",
       "      <th>102589</th>\n",
       "      <td>6089676</td>\n",
       "      <td>Lrg room 1 block from Prospect Park</td>\n",
       "      <td>74549151787</td>\n",
       "      <td>unconfirmed</td>\n",
       "      <td>Dave</td>\n",
       "      <td>Brooklyn</td>\n",
       "      <td>Flatbush</td>\n",
       "      <td>40.65231</td>\n",
       "      <td>-73.96189</td>\n",
       "      <td>United States</td>\n",
       "      <td>...</td>\n",
       "      <td>$61</td>\n",
       "      <td>3.0</td>\n",
       "      <td>0.0</td>\n",
       "      <td>NaN</td>\n",
       "      <td>NaN</td>\n",
       "      <td>1.0</td>\n",
       "      <td>1.0</td>\n",
       "      <td>200.0</td>\n",
       "      <td>House Rules 1. Check-in is 4 pm local time. If...</td>\n",
       "      <td>NaN</td>\n",
       "    </tr>\n",
       "    <tr>\n",
       "      <th>102590</th>\n",
       "      <td>6090228</td>\n",
       "      <td>Wonderful artists' loft in Brooklyn</td>\n",
       "      <td>9184535139</td>\n",
       "      <td>unconfirmed</td>\n",
       "      <td>Daniel</td>\n",
       "      <td>Brooklyn</td>\n",
       "      <td>Crown Heights</td>\n",
       "      <td>40.66673</td>\n",
       "      <td>-73.96127</td>\n",
       "      <td>United States</td>\n",
       "      <td>...</td>\n",
       "      <td>$50</td>\n",
       "      <td>1.0</td>\n",
       "      <td>0.0</td>\n",
       "      <td>NaN</td>\n",
       "      <td>NaN</td>\n",
       "      <td>1.0</td>\n",
       "      <td>1.0</td>\n",
       "      <td>276.0</td>\n",
       "      <td>#NAME?</td>\n",
       "      <td>NaN</td>\n",
       "    </tr>\n",
       "    <tr>\n",
       "      <th>102591</th>\n",
       "      <td>6090781</td>\n",
       "      <td>Columbus Ave Apt 1 block from Park</td>\n",
       "      <td>50908010324</td>\n",
       "      <td>verified</td>\n",
       "      <td>Lawrence</td>\n",
       "      <td>Manhattan</td>\n",
       "      <td>Upper West Side</td>\n",
       "      <td>40.77408</td>\n",
       "      <td>-73.98181</td>\n",
       "      <td>United States</td>\n",
       "      <td>...</td>\n",
       "      <td>$228</td>\n",
       "      <td>5.0</td>\n",
       "      <td>17.0</td>\n",
       "      <td>1/4/2019</td>\n",
       "      <td>0.35</td>\n",
       "      <td>5.0</td>\n",
       "      <td>1.0</td>\n",
       "      <td>134.0</td>\n",
       "      <td>#NAME?</td>\n",
       "      <td>NaN</td>\n",
       "    </tr>\n",
       "    <tr>\n",
       "      <th>102592</th>\n",
       "      <td>6091333</td>\n",
       "      <td>3BR/1 Ba in TriBeCa w/ outdoor deck</td>\n",
       "      <td>53266862889</td>\n",
       "      <td>unconfirmed</td>\n",
       "      <td>Nick</td>\n",
       "      <td>Manhattan</td>\n",
       "      <td>Tribeca</td>\n",
       "      <td>40.71845</td>\n",
       "      <td>-74.01183</td>\n",
       "      <td>United States</td>\n",
       "      <td>...</td>\n",
       "      <td>$157</td>\n",
       "      <td>1.0</td>\n",
       "      <td>0.0</td>\n",
       "      <td>NaN</td>\n",
       "      <td>NaN</td>\n",
       "      <td>2.0</td>\n",
       "      <td>1.0</td>\n",
       "      <td>177.0</td>\n",
       "      <td>Guests should treat my home as if it were thei...</td>\n",
       "      <td>NaN</td>\n",
       "    </tr>\n",
       "    <tr>\n",
       "      <th>102593</th>\n",
       "      <td>6091885</td>\n",
       "      <td>Welcoming, Clean, Cheap on St Marks</td>\n",
       "      <td>33188605074</td>\n",
       "      <td>verified</td>\n",
       "      <td>Felipe</td>\n",
       "      <td>Manhattan</td>\n",
       "      <td>East Village</td>\n",
       "      <td>40.72826</td>\n",
       "      <td>-73.98422</td>\n",
       "      <td>United States</td>\n",
       "      <td>...</td>\n",
       "      <td>$220</td>\n",
       "      <td>1.0</td>\n",
       "      <td>8.0</td>\n",
       "      <td>9/6/2015</td>\n",
       "      <td>0.16</td>\n",
       "      <td>4.0</td>\n",
       "      <td>2.0</td>\n",
       "      <td>152.0</td>\n",
       "      <td>* No smoking indoors.  * No pets  * No loud/la...</td>\n",
       "      <td>NaN</td>\n",
       "    </tr>\n",
       "    <tr>\n",
       "      <th>102594</th>\n",
       "      <td>6092437</td>\n",
       "      <td>Spare room in Williamsburg</td>\n",
       "      <td>12312296767</td>\n",
       "      <td>verified</td>\n",
       "      <td>Krik</td>\n",
       "      <td>Brooklyn</td>\n",
       "      <td>Williamsburg</td>\n",
       "      <td>40.70862</td>\n",
       "      <td>-73.94651</td>\n",
       "      <td>United States</td>\n",
       "      <td>...</td>\n",
       "      <td>$169</td>\n",
       "      <td>1.0</td>\n",
       "      <td>0.0</td>\n",
       "      <td>NaN</td>\n",
       "      <td>NaN</td>\n",
       "      <td>3.0</td>\n",
       "      <td>1.0</td>\n",
       "      <td>227.0</td>\n",
       "      <td>No Smoking No Parties or Events of any kind Pl...</td>\n",
       "      <td>NaN</td>\n",
       "    </tr>\n",
       "    <tr>\n",
       "      <th>102595</th>\n",
       "      <td>6092990</td>\n",
       "      <td>Best Location near Columbia U</td>\n",
       "      <td>77864383453</td>\n",
       "      <td>unconfirmed</td>\n",
       "      <td>Mifan</td>\n",
       "      <td>Manhattan</td>\n",
       "      <td>Morningside Heights</td>\n",
       "      <td>40.80460</td>\n",
       "      <td>-73.96545</td>\n",
       "      <td>United States</td>\n",
       "      <td>...</td>\n",
       "      <td>$167</td>\n",
       "      <td>1.0</td>\n",
       "      <td>1.0</td>\n",
       "      <td>7/6/2015</td>\n",
       "      <td>0.02</td>\n",
       "      <td>2.0</td>\n",
       "      <td>2.0</td>\n",
       "      <td>395.0</td>\n",
       "      <td>House rules: Guests agree to the following ter...</td>\n",
       "      <td>NaN</td>\n",
       "    </tr>\n",
       "    <tr>\n",
       "      <th>102596</th>\n",
       "      <td>6093542</td>\n",
       "      <td>Comfy, bright room in Brooklyn</td>\n",
       "      <td>69050334417</td>\n",
       "      <td>unconfirmed</td>\n",
       "      <td>Megan</td>\n",
       "      <td>Brooklyn</td>\n",
       "      <td>Park Slope</td>\n",
       "      <td>40.67505</td>\n",
       "      <td>-73.98045</td>\n",
       "      <td>United States</td>\n",
       "      <td>...</td>\n",
       "      <td>$198</td>\n",
       "      <td>3.0</td>\n",
       "      <td>0.0</td>\n",
       "      <td>NaN</td>\n",
       "      <td>NaN</td>\n",
       "      <td>5.0</td>\n",
       "      <td>1.0</td>\n",
       "      <td>342.0</td>\n",
       "      <td>NaN</td>\n",
       "      <td>NaN</td>\n",
       "    </tr>\n",
       "    <tr>\n",
       "      <th>102597</th>\n",
       "      <td>6094094</td>\n",
       "      <td>Big Studio-One Stop from Midtown</td>\n",
       "      <td>11160591270</td>\n",
       "      <td>unconfirmed</td>\n",
       "      <td>Christopher</td>\n",
       "      <td>Queens</td>\n",
       "      <td>Long Island City</td>\n",
       "      <td>40.74989</td>\n",
       "      <td>-73.93777</td>\n",
       "      <td>United States</td>\n",
       "      <td>...</td>\n",
       "      <td>$109</td>\n",
       "      <td>2.0</td>\n",
       "      <td>5.0</td>\n",
       "      <td>10/11/2015</td>\n",
       "      <td>0.10</td>\n",
       "      <td>3.0</td>\n",
       "      <td>1.0</td>\n",
       "      <td>386.0</td>\n",
       "      <td>NaN</td>\n",
       "      <td>NaN</td>\n",
       "    </tr>\n",
       "    <tr>\n",
       "      <th>102598</th>\n",
       "      <td>6094647</td>\n",
       "      <td>585 sf Luxury Studio</td>\n",
       "      <td>68170633372</td>\n",
       "      <td>unconfirmed</td>\n",
       "      <td>Rebecca</td>\n",
       "      <td>Manhattan</td>\n",
       "      <td>Upper West Side</td>\n",
       "      <td>40.76807</td>\n",
       "      <td>-73.98342</td>\n",
       "      <td>United States</td>\n",
       "      <td>...</td>\n",
       "      <td>$206</td>\n",
       "      <td>1.0</td>\n",
       "      <td>0.0</td>\n",
       "      <td>NaN</td>\n",
       "      <td>NaN</td>\n",
       "      <td>3.0</td>\n",
       "      <td>1.0</td>\n",
       "      <td>69.0</td>\n",
       "      <td>NaN</td>\n",
       "      <td>NaN</td>\n",
       "    </tr>\n",
       "  </tbody>\n",
       "</table>\n",
       "<p>10 rows × 26 columns</p>\n",
       "</div>"
      ],
      "text/plain": [
       "             id                                 NAME      host id  \\\n",
       "102589  6089676  Lrg room 1 block from Prospect Park  74549151787   \n",
       "102590  6090228  Wonderful artists' loft in Brooklyn   9184535139   \n",
       "102591  6090781   Columbus Ave Apt 1 block from Park  50908010324   \n",
       "102592  6091333  3BR/1 Ba in TriBeCa w/ outdoor deck  53266862889   \n",
       "102593  6091885  Welcoming, Clean, Cheap on St Marks  33188605074   \n",
       "102594  6092437           Spare room in Williamsburg  12312296767   \n",
       "102595  6092990        Best Location near Columbia U  77864383453   \n",
       "102596  6093542       Comfy, bright room in Brooklyn  69050334417   \n",
       "102597  6094094     Big Studio-One Stop from Midtown  11160591270   \n",
       "102598  6094647                 585 sf Luxury Studio  68170633372   \n",
       "\n",
       "       host_identity_verified    host name neighbourhood group  \\\n",
       "102589            unconfirmed         Dave            Brooklyn   \n",
       "102590            unconfirmed       Daniel            Brooklyn   \n",
       "102591               verified     Lawrence           Manhattan   \n",
       "102592            unconfirmed         Nick           Manhattan   \n",
       "102593               verified       Felipe           Manhattan   \n",
       "102594               verified         Krik            Brooklyn   \n",
       "102595            unconfirmed        Mifan           Manhattan   \n",
       "102596            unconfirmed        Megan            Brooklyn   \n",
       "102597            unconfirmed  Christopher              Queens   \n",
       "102598            unconfirmed      Rebecca           Manhattan   \n",
       "\n",
       "              neighbourhood       lat      long        country  ...  \\\n",
       "102589             Flatbush  40.65231 -73.96189  United States  ...   \n",
       "102590        Crown Heights  40.66673 -73.96127  United States  ...   \n",
       "102591      Upper West Side  40.77408 -73.98181  United States  ...   \n",
       "102592              Tribeca  40.71845 -74.01183  United States  ...   \n",
       "102593         East Village  40.72826 -73.98422  United States  ...   \n",
       "102594         Williamsburg  40.70862 -73.94651  United States  ...   \n",
       "102595  Morningside Heights  40.80460 -73.96545  United States  ...   \n",
       "102596           Park Slope  40.67505 -73.98045  United States  ...   \n",
       "102597     Long Island City  40.74989 -73.93777  United States  ...   \n",
       "102598      Upper West Side  40.76807 -73.98342  United States  ...   \n",
       "\n",
       "       service fee minimum nights number of reviews last review  \\\n",
       "102589        $61             3.0               0.0         NaN   \n",
       "102590        $50             1.0               0.0         NaN   \n",
       "102591       $228             5.0              17.0    1/4/2019   \n",
       "102592       $157             1.0               0.0         NaN   \n",
       "102593       $220             1.0               8.0    9/6/2015   \n",
       "102594       $169             1.0               0.0         NaN   \n",
       "102595       $167             1.0               1.0    7/6/2015   \n",
       "102596       $198             3.0               0.0         NaN   \n",
       "102597       $109             2.0               5.0  10/11/2015   \n",
       "102598       $206             1.0               0.0         NaN   \n",
       "\n",
       "        reviews per month review rate number calculated host listings count  \\\n",
       "102589                NaN                1.0                            1.0   \n",
       "102590                NaN                1.0                            1.0   \n",
       "102591               0.35                5.0                            1.0   \n",
       "102592                NaN                2.0                            1.0   \n",
       "102593               0.16                4.0                            2.0   \n",
       "102594                NaN                3.0                            1.0   \n",
       "102595               0.02                2.0                            2.0   \n",
       "102596                NaN                5.0                            1.0   \n",
       "102597               0.10                3.0                            1.0   \n",
       "102598                NaN                3.0                            1.0   \n",
       "\n",
       "        availability 365                                        house_rules  \\\n",
       "102589             200.0  House Rules 1. Check-in is 4 pm local time. If...   \n",
       "102590             276.0                                             #NAME?   \n",
       "102591             134.0                                             #NAME?   \n",
       "102592             177.0  Guests should treat my home as if it were thei...   \n",
       "102593             152.0  * No smoking indoors.  * No pets  * No loud/la...   \n",
       "102594             227.0  No Smoking No Parties or Events of any kind Pl...   \n",
       "102595             395.0  House rules: Guests agree to the following ter...   \n",
       "102596             342.0                                                NaN   \n",
       "102597             386.0                                                NaN   \n",
       "102598              69.0                                                NaN   \n",
       "\n",
       "       license  \n",
       "102589     NaN  \n",
       "102590     NaN  \n",
       "102591     NaN  \n",
       "102592     NaN  \n",
       "102593     NaN  \n",
       "102594     NaN  \n",
       "102595     NaN  \n",
       "102596     NaN  \n",
       "102597     NaN  \n",
       "102598     NaN  \n",
       "\n",
       "[10 rows x 26 columns]"
      ]
     },
     "execution_count": 9,
     "metadata": {},
     "output_type": "execute_result"
    }
   ],
   "source": [
    "airbnb_df.tail(10)"
   ]
  },
  {
   "cell_type": "markdown",
   "id": "cf75a7d0-e8fa-412a-b8f2-d44d99d08e54",
   "metadata": {},
   "source": [
    "Reviewing the header and tail gives us a good idea of the various errors we will see in cleanup."
   ]
  },
  {
   "cell_type": "markdown",
   "id": "2a1fe23f-46ba-450f-a0a2-035be8c4eddb",
   "metadata": {},
   "source": [
    "## Understand the Data Structure"
   ]
  },
  {
   "cell_type": "code",
   "execution_count": 12,
   "id": "235ac49c-5355-4489-8606-1b2e566bb759",
   "metadata": {
    "tags": []
   },
   "outputs": [
    {
     "name": "stdout",
     "output_type": "stream",
     "text": [
      "<class 'pandas.core.frame.DataFrame'>\n",
      "RangeIndex: 102599 entries, 0 to 102598\n",
      "Data columns (total 26 columns):\n",
      " #   Column                          Non-Null Count   Dtype  \n",
      "---  ------                          --------------   -----  \n",
      " 0   id                              102599 non-null  int64  \n",
      " 1   NAME                            102349 non-null  object \n",
      " 2   host id                         102599 non-null  int64  \n",
      " 3   host_identity_verified          102310 non-null  object \n",
      " 4   host name                       102193 non-null  object \n",
      " 5   neighbourhood group             102570 non-null  object \n",
      " 6   neighbourhood                   102583 non-null  object \n",
      " 7   lat                             102591 non-null  float64\n",
      " 8   long                            102591 non-null  float64\n",
      " 9   country                         102067 non-null  object \n",
      " 10  country code                    102468 non-null  object \n",
      " 11  instant_bookable                102494 non-null  object \n",
      " 12  cancellation_policy             102523 non-null  object \n",
      " 13  room type                       102599 non-null  object \n",
      " 14  Construction year               102385 non-null  float64\n",
      " 15  price                           102352 non-null  object \n",
      " 16  service fee                     102326 non-null  object \n",
      " 17  minimum nights                  102190 non-null  float64\n",
      " 18  number of reviews               102416 non-null  float64\n",
      " 19  last review                     86706 non-null   object \n",
      " 20  reviews per month               86720 non-null   float64\n",
      " 21  review rate number              102273 non-null  float64\n",
      " 22  calculated host listings count  102280 non-null  float64\n",
      " 23  availability 365                102151 non-null  float64\n",
      " 24  house_rules                     50468 non-null   object \n",
      " 25  license                         2 non-null       object \n",
      "dtypes: float64(9), int64(2), object(15)\n",
      "memory usage: 20.4+ MB\n"
     ]
    }
   ],
   "source": [
    "airbnb_df.info()"
   ]
  },
  {
   "cell_type": "markdown",
   "id": "18b51cfa-9a4e-4f00-8958-b0a591783b63",
   "metadata": {},
   "source": [
    "Most of the data appears to have loaded with a raasonable data type.  Construction Year should stay four digits, so it will have to be turned to an integer. Price and Service Fee are numbers, and thus should have the \"$\" removed."
   ]
  },
  {
   "cell_type": "code",
   "execution_count": 14,
   "id": "6a630efd-7768-4666-b740-f4c98acea256",
   "metadata": {
    "tags": []
   },
   "outputs": [
    {
     "name": "stdout",
     "output_type": "stream",
     "text": [
      "Starting number of rows: 102599\n"
     ]
    }
   ],
   "source": [
    "#Grabbing the total number at the start\n",
    "start_rows = airbnb_df.shape[0]\n",
    "print(f\"Starting number of rows: {start_rows}\")"
   ]
  },
  {
   "cell_type": "code",
   "execution_count": 15,
   "id": "26dc14e2-89fc-4b2c-9ab4-0ae7d5e4234b",
   "metadata": {
    "tags": []
   },
   "outputs": [
    {
     "data": {
      "text/plain": [
       "count     102352\n",
       "unique      1151\n",
       "top        $206 \n",
       "freq         137\n",
       "Name: price, dtype: object"
      ]
     },
     "execution_count": 15,
     "metadata": {},
     "output_type": "execute_result"
    }
   ],
   "source": [
    "airbnb_df.price.describe()"
   ]
  },
  {
   "cell_type": "code",
   "execution_count": 16,
   "id": "7fe6066f-5dee-46b7-96db-bfd7d184a761",
   "metadata": {
    "tags": []
   },
   "outputs": [
    {
     "data": {
      "text/plain": [
       "count     102326\n",
       "unique       231\n",
       "top         $41 \n",
       "freq         526\n",
       "Name: service fee, dtype: object"
      ]
     },
     "execution_count": 16,
     "metadata": {},
     "output_type": "execute_result"
    }
   ],
   "source": [
    "airbnb_df['service fee'].describe()"
   ]
  },
  {
   "cell_type": "markdown",
   "id": "e4a0cc32-9583-482f-a908-a60813e936a1",
   "metadata": {},
   "source": [
    "Price and Service Fee are numbers, and thus should have the \"$\" removed. Not seen in this \"Describe\" for service fee, but seen in price and the head/tail records above"
   ]
  },
  {
   "cell_type": "markdown",
   "id": "a5ed9370-ae2b-4c80-a342-3d0562cb015e",
   "metadata": {},
   "source": [
    "## Identify Missing Values"
   ]
  },
  {
   "cell_type": "code",
   "execution_count": 19,
   "id": "aa848bd1-e7db-4d1a-bcb3-bfee40467aa9",
   "metadata": {
    "tags": []
   },
   "outputs": [
    {
     "name": "stdout",
     "output_type": "stream",
     "text": [
      "Column \"id\" is missing 0.00% values.\n",
      "Column \"NAME\" is missing 0.24% values.\n",
      "Column \"host id\" is missing 0.00% values.\n",
      "Column \"host_identity_verified\" is missing 0.28% values.\n",
      "Column \"host name\" is missing 0.40% values.\n",
      "Column \"neighbourhood group\" is missing 0.03% values.\n",
      "Column \"neighbourhood\" is missing 0.02% values.\n",
      "Column \"lat\" is missing 0.01% values.\n",
      "Column \"long\" is missing 0.01% values.\n",
      "Column \"country\" is missing 0.52% values.\n",
      "Column \"country code\" is missing 0.13% values.\n",
      "Column \"instant_bookable\" is missing 0.10% values.\n",
      "Column \"cancellation_policy\" is missing 0.07% values.\n",
      "Column \"room type\" is missing 0.00% values.\n",
      "Column \"Construction year\" is missing 0.21% values.\n",
      "Column \"price\" is missing 0.24% values.\n",
      "Column \"service fee\" is missing 0.27% values.\n",
      "Column \"minimum nights\" is missing 0.40% values.\n",
      "Column \"number of reviews\" is missing 0.18% values.\n",
      "Column \"last review\" is missing 15.49% values.\n",
      "Column \"reviews per month\" is missing 15.48% values.\n",
      "Column \"review rate number\" is missing 0.32% values.\n",
      "Column \"calculated host listings count\" is missing 0.31% values.\n",
      "Column \"availability 365\" is missing 0.44% values.\n",
      "Column \"house_rules\" is missing 50.81% values.\n",
      "Column \"license\" is missing 100.00% values.\n"
     ]
    }
   ],
   "source": [
    "# Missing values as a %\n",
    "for column in airbnb_df.columns:\n",
    "    missing_percentage = airbnb_df[column].isnull().mean() * 100\n",
    "    print(f\"Column \\\"{column}\\\" is missing {missing_percentage:.2f}% values.\")"
   ]
  },
  {
   "cell_type": "markdown",
   "id": "e8be748b-876b-46cb-bad4-9152f9c59e63",
   "metadata": {},
   "source": [
    "As discussed during our presentation, there are not many consequential fields that are null.  Most columns with missing values are under a half of a percent of the total rows, so they can simply be removed without much consequence.\n",
    "\n",
    "Of note, license is completely blank. This column will not be touched."
   ]
  },
  {
   "cell_type": "markdown",
   "id": "9f9038c7-d8f3-4f5b-a143-7c3b4ae04af0",
   "metadata": {},
   "source": [
    "# Data Preprocessing\n",
    "## Handling Missing Values\n",
    "\n",
    "As discussed during our presentation, there are not many consequential fields that are null. However, there are a number of columns we can improve. \n",
    "\n",
    "- Id, Name, Host id, host verified, and host name are identifiers and not consequential, remaining untouched\n",
    "\n",
    "- Neighborhood/Neighborhood Group columns have numerous typos and missing values\n",
    "\n",
    "- Lat/Long have some missing valus that will be removed\n",
    "\n",
    "- Country/Code should all be United States/US\n",
    "\n",
    "- Instant bookable, cancellation policy, room type, construction year have a small number of missing records that will be removed\n",
    "\n",
    "- Price and Service fee need to have their \"$\" removed\n",
    "\n",
    "- Minimum Number of nights will require some special treatment, discussed below\n",
    "\n",
    "- Number of reviews has few null records, so they will be removed\n",
    "\n",
    "- Last Review & Reviews Per Month are unconsequential for the focus of this initial review and will remain untouched\n",
    "\n",
    "- Review Rate does not have much context behind it, but has few null records\n",
    "\n",
    "- Calculated Host Listings Count has few null records\n",
    "\n",
    "- Availability 365 will also require special treatment, discussed below\n",
    "\n",
    "- House Rules is only populated in half of our data set, when using this feature a second data frame will be prepared without null values.\n",
    "\n",
    "- License is blank, so it will not be touched.\n",
    "\n",
    "As described in the metadata [1], some of these columns were calculated based on a pull from a \"calendar\" so we have nulls and negatives for the numbers of days in both the \"minimum number\" and \"availability 365\" columns."
   ]
  },
  {
   "cell_type": "markdown",
   "id": "9e572cb8-fe73-45a1-b38c-a22369cc079b",
   "metadata": {},
   "source": [
    "### Killing License Column"
   ]
  },
  {
   "cell_type": "code",
   "execution_count": 23,
   "id": "9d0d5c5c-d9fa-4a72-a81b-30db9726530a",
   "metadata": {},
   "outputs": [],
   "source": [
    "airbnb_df = airbnb_df.drop(columns=['license'])"
   ]
  },
  {
   "cell_type": "markdown",
   "id": "cb09cafc-066b-483c-bfca-99d636229fee",
   "metadata": {},
   "source": [
    "### Neighborhood Group and Neighborhood"
   ]
  },
  {
   "cell_type": "code",
   "execution_count": 25,
   "id": "a368e107-6984-41c6-bdc3-7bbb02e10016",
   "metadata": {
    "tags": []
   },
   "outputs": [
    {
     "name": "stdout",
     "output_type": "stream",
     "text": [
      "Unique neighborhood groups: ['Brooklyn' 'Manhattan' 'brookln' 'manhatan' 'Queens' nan 'Staten Island'\n",
      " 'Bronx']\n"
     ]
    }
   ],
   "source": [
    "unique_groups = airbnb_df['neighbourhood group'].unique()\n",
    "print(\"Unique neighborhood groups:\", unique_groups)"
   ]
  },
  {
   "cell_type": "markdown",
   "id": "1292c1a8-11d4-4199-89e9-cf4bf16970fe",
   "metadata": {},
   "source": [
    "As these are simply the 5 boroughs of New York, they are easily corrected."
   ]
  },
  {
   "cell_type": "code",
   "execution_count": 27,
   "id": "c80d5e91-835e-475b-b2b1-6f20bacfdcaa",
   "metadata": {
    "tags": []
   },
   "outputs": [],
   "source": [
    "airbnb_df['neighbourhood group'] = airbnb_df['neighbourhood group'].replace({'brookln': 'Brooklyn','manhatan':'Manhattan'})"
   ]
  },
  {
   "cell_type": "code",
   "execution_count": 28,
   "id": "1d8c7e1f-def0-40db-82a7-38dfd1a6c830",
   "metadata": {
    "tags": []
   },
   "outputs": [
    {
     "name": "stdout",
     "output_type": "stream",
     "text": [
      "Unique neighborhood groups corrected: ['Brooklyn' 'Manhattan' 'Queens' nan 'Staten Island' 'Bronx']\n"
     ]
    }
   ],
   "source": [
    "unique_neighborhoods = airbnb_df['neighbourhood group'].unique()\n",
    "print(\"Unique neighborhood groups corrected:\", unique_neighborhoods)"
   ]
  },
  {
   "cell_type": "markdown",
   "id": "9ae4530d-46b7-465c-b338-fef0fbe63598",
   "metadata": {},
   "source": [
    "With the null values, we can attempt to replace the missing Neighborhood Group by pulling out the existing relationship and applying it to the data frame."
   ]
  },
  {
   "cell_type": "code",
   "execution_count": 30,
   "id": "9b39064f-0806-4a8c-9006-c68be97b6b8a",
   "metadata": {
    "tags": []
   },
   "outputs": [],
   "source": [
    "neighborhood_relation = airbnb_df[['neighbourhood', 'neighbourhood group']]"
   ]
  },
  {
   "cell_type": "code",
   "execution_count": 31,
   "id": "6a7af56d-5a85-47f3-be9a-4138750af2b7",
   "metadata": {
    "tags": []
   },
   "outputs": [],
   "source": [
    "neighborhood_relation = neighborhood_relation.dropna(subset=['neighbourhood', 'neighbourhood group'])"
   ]
  },
  {
   "cell_type": "code",
   "execution_count": 32,
   "id": "70bea3ca-b7a4-454d-bec0-6350f50e59aa",
   "metadata": {
    "tags": []
   },
   "outputs": [],
   "source": [
    "airbnb_df['neighbourhood group'] = airbnb_df.apply(\n",
    "    lambda row: neighborhood_relation[neighborhood_relation['neighbourhood'] == row['neighbourhood']]['neighbourhood group'].values[0]\n",
    "    if pd.isnull(row['neighbourhood group']) and row['neighbourhood'] in neighborhood_relation['neighbourhood'].values\n",
    "    else row['neighbourhood group'],\n",
    "    axis=1\n",
    ")"
   ]
  },
  {
   "cell_type": "code",
   "execution_count": 33,
   "id": "5337e302-1e49-445f-83dc-586ad4191940",
   "metadata": {
    "tags": []
   },
   "outputs": [
    {
     "name": "stdout",
     "output_type": "stream",
     "text": [
      "Unique neighborhood groups without null: ['Brooklyn' 'Manhattan' 'Queens' 'Staten Island' 'Bronx']\n"
     ]
    }
   ],
   "source": [
    "unique_neighborhoods = airbnb_df['neighbourhood group'].unique()\n",
    "print(\"Unique neighborhood groups without null:\", unique_neighborhoods)"
   ]
  },
  {
   "cell_type": "markdown",
   "id": "13afbfeb-b6c4-41cf-8628-65435bc1130f",
   "metadata": {
    "tags": []
   },
   "source": [
    "Success! We have replaced all NA's from the neighborhood groups, but we still have missing neighborhoods.\n",
    "\n",
    "### Latitude and Longatude\n",
    "Both of these columns are less than 0.01% of the total, so values will simply be removed."
   ]
  },
  {
   "cell_type": "code",
   "execution_count": 35,
   "id": "d69f1c48-2ec3-4d0e-8a76-9c5d96708a6d",
   "metadata": {
    "tags": []
   },
   "outputs": [
    {
     "data": {
      "text/plain": [
       "8"
      ]
     },
     "execution_count": 35,
     "metadata": {},
     "output_type": "execute_result"
    }
   ],
   "source": [
    "airbnb_df['lat'].isnull().sum()"
   ]
  },
  {
   "cell_type": "code",
   "execution_count": 36,
   "id": "17012619-aa3d-4ec3-8364-de4e1ed44c98",
   "metadata": {
    "tags": []
   },
   "outputs": [
    {
     "data": {
      "text/plain": [
       "8"
      ]
     },
     "execution_count": 36,
     "metadata": {},
     "output_type": "execute_result"
    }
   ],
   "source": [
    "airbnb_df['long'].isnull().sum()"
   ]
  },
  {
   "cell_type": "code",
   "execution_count": 37,
   "id": "c6a5ede0-130a-463e-bc97-3e47a4990ea6",
   "metadata": {
    "tags": []
   },
   "outputs": [],
   "source": [
    "airbnb_df = airbnb_df.dropna(subset=['lat'])"
   ]
  },
  {
   "cell_type": "code",
   "execution_count": 38,
   "id": "b142805f-cf5f-465a-a77e-0813287339f2",
   "metadata": {
    "tags": []
   },
   "outputs": [],
   "source": [
    "airbnb_df = airbnb_df.dropna(subset=['long'])"
   ]
  },
  {
   "cell_type": "code",
   "execution_count": 39,
   "id": "c1d39c85-ac1c-4d84-a088-9b681c436bf1",
   "metadata": {},
   "outputs": [
    {
     "data": {
      "text/plain": [
       "0"
      ]
     },
     "execution_count": 39,
     "metadata": {},
     "output_type": "execute_result"
    }
   ],
   "source": [
    "airbnb_df['lat'].isnull().sum()"
   ]
  },
  {
   "cell_type": "code",
   "execution_count": 40,
   "id": "77998eb0-d10d-4efd-8be6-825c062d4704",
   "metadata": {},
   "outputs": [
    {
     "data": {
      "text/plain": [
       "0"
      ]
     },
     "execution_count": 40,
     "metadata": {},
     "output_type": "execute_result"
    }
   ],
   "source": [
    "airbnb_df['long'].isnull().sum()"
   ]
  },
  {
   "cell_type": "markdown",
   "id": "44867886-7df8-49a9-a203-73b9d33ab71a",
   "metadata": {},
   "source": [
    "Rows without Lat/Long are removed.\n",
    "\n",
    "### Country and Country Code\n",
    "\n",
    "Any rows missing the United States/US Country and Country Code will have that information filled in."
   ]
  },
  {
   "cell_type": "code",
   "execution_count": 42,
   "id": "d0478b6e-2e90-4c51-84b2-8be9369a6a7d",
   "metadata": {
    "tags": []
   },
   "outputs": [
    {
     "data": {
      "text/plain": [
       "532"
      ]
     },
     "execution_count": 42,
     "metadata": {},
     "output_type": "execute_result"
    }
   ],
   "source": [
    "airbnb_df['country'].isnull().sum()"
   ]
  },
  {
   "cell_type": "code",
   "execution_count": 43,
   "id": "07f4978d-d811-4905-9bf5-d68eea16581e",
   "metadata": {
    "tags": []
   },
   "outputs": [
    {
     "data": {
      "text/plain": [
       "131"
      ]
     },
     "execution_count": 43,
     "metadata": {},
     "output_type": "execute_result"
    }
   ],
   "source": [
    "airbnb_df['country code'].isnull().sum()"
   ]
  },
  {
   "cell_type": "code",
   "execution_count": 44,
   "id": "d66393c7-3e52-4b60-a72b-756aec3f14cc",
   "metadata": {
    "tags": []
   },
   "outputs": [],
   "source": [
    "airbnb_df['country'] = airbnb_df['country'].fillna('United States')"
   ]
  },
  {
   "cell_type": "code",
   "execution_count": 45,
   "id": "7fde055d-dba9-4255-8838-91943f7b1267",
   "metadata": {
    "tags": []
   },
   "outputs": [],
   "source": [
    "airbnb_df['country code'] = airbnb_df['country code'].fillna('US')"
   ]
  },
  {
   "cell_type": "code",
   "execution_count": 46,
   "id": "7c32b4c3-9ccc-454a-8eae-72c9fb6119c1",
   "metadata": {},
   "outputs": [
    {
     "data": {
      "text/plain": [
       "0"
      ]
     },
     "execution_count": 46,
     "metadata": {},
     "output_type": "execute_result"
    }
   ],
   "source": [
    "airbnb_df['country'].isnull().sum()"
   ]
  },
  {
   "cell_type": "code",
   "execution_count": 47,
   "id": "d7804342-04c4-4dec-94db-9991bc29923f",
   "metadata": {},
   "outputs": [
    {
     "data": {
      "text/plain": [
       "0"
      ]
     },
     "execution_count": 47,
     "metadata": {},
     "output_type": "execute_result"
    }
   ],
   "source": [
    "airbnb_df['country code'].isnull().sum()"
   ]
  },
  {
   "cell_type": "markdown",
   "id": "0f4ac962-ec73-47ea-960a-c5291db64c7e",
   "metadata": {},
   "source": [
    "### Instant Bookable has a very small number of null records, so we can remove them."
   ]
  },
  {
   "cell_type": "code",
   "execution_count": 49,
   "id": "b7f6ddeb-26be-426c-8cd2-83b74fad5f17",
   "metadata": {
    "tags": []
   },
   "outputs": [
    {
     "data": {
      "text/plain": [
       "105"
      ]
     },
     "execution_count": 49,
     "metadata": {},
     "output_type": "execute_result"
    }
   ],
   "source": [
    "airbnb_df['instant_bookable'].isnull().sum()"
   ]
  },
  {
   "cell_type": "code",
   "execution_count": 50,
   "id": "383698b7-ceff-4f7a-9d57-7ea303aa87d8",
   "metadata": {
    "tags": []
   },
   "outputs": [
    {
     "data": {
      "text/plain": [
       "0"
      ]
     },
     "execution_count": 50,
     "metadata": {},
     "output_type": "execute_result"
    }
   ],
   "source": [
    "airbnb_df = airbnb_df.dropna(subset=['instant_bookable'])\n",
    "airbnb_df['instant_bookable'].isnull().sum()"
   ]
  },
  {
   "cell_type": "markdown",
   "id": "2c783983-47c8-46f6-9cee-fd68b09f9275",
   "metadata": {},
   "source": [
    "### Cancellation Policy\n",
    "Luckily,  the missing rows from the instant bookable overlap with all missing values for cancellation policy."
   ]
  },
  {
   "cell_type": "code",
   "execution_count": 52,
   "id": "09fa53eb-6e90-4f9b-ad67-7d8669f0876a",
   "metadata": {
    "tags": []
   },
   "outputs": [
    {
     "data": {
      "text/plain": [
       "0"
      ]
     },
     "execution_count": 52,
     "metadata": {},
     "output_type": "execute_result"
    }
   ],
   "source": [
    "airbnb_df['cancellation_policy'].isnull().sum()"
   ]
  },
  {
   "cell_type": "markdown",
   "id": "5b86e2ac-959b-47d5-8afd-933470c689c4",
   "metadata": {},
   "source": [
    "### Construction Year\n",
    "We have about 200 Rows missing a year, so we can remove these. However, note the data type change."
   ]
  },
  {
   "cell_type": "code",
   "execution_count": 54,
   "id": "a5430724-8572-43d4-8bc9-3851ece86cc4",
   "metadata": {
    "tags": []
   },
   "outputs": [
    {
     "data": {
      "text/plain": [
       "204"
      ]
     },
     "execution_count": 54,
     "metadata": {},
     "output_type": "execute_result"
    }
   ],
   "source": [
    "airbnb_df['Construction year'].isnull().sum()"
   ]
  },
  {
   "cell_type": "code",
   "execution_count": 55,
   "id": "1acf1e58-c4ea-4df5-adb7-62b08e65c74f",
   "metadata": {},
   "outputs": [],
   "source": [
    "airbnb_df = airbnb_df.dropna(subset=['Construction year'])"
   ]
  },
  {
   "cell_type": "code",
   "execution_count": 56,
   "id": "4b579be9-11b5-4f3b-b953-8c1b46dd1045",
   "metadata": {
    "tags": []
   },
   "outputs": [
    {
     "data": {
      "text/plain": [
       "0"
      ]
     },
     "execution_count": 56,
     "metadata": {},
     "output_type": "execute_result"
    }
   ],
   "source": [
    "airbnb_df['Construction year'].isnull().sum()"
   ]
  },
  {
   "cell_type": "markdown",
   "id": "b84a4bbe-3b18-4e28-a807-82372072ca9e",
   "metadata": {},
   "source": [
    "Dropping NA's introduces a float, we need to turn this back to an Int for plotting."
   ]
  },
  {
   "cell_type": "code",
   "execution_count": 58,
   "id": "c402b3f4-4484-4bff-acd0-fba8fc890027",
   "metadata": {
    "tags": []
   },
   "outputs": [],
   "source": [
    "airbnb_df['Construction year'] = airbnb_df['Construction year'].astype(int)"
   ]
  },
  {
   "cell_type": "code",
   "execution_count": 59,
   "id": "ce524ef4-95dc-4e18-9168-7eac33091644",
   "metadata": {
    "tags": []
   },
   "outputs": [
    {
     "data": {
      "text/plain": [
       "0         2020\n",
       "1         2007\n",
       "2         2005\n",
       "3         2005\n",
       "4         2009\n",
       "          ... \n",
       "102594    2003\n",
       "102595    2016\n",
       "102596    2009\n",
       "102597    2015\n",
       "102598    2010\n",
       "Name: Construction year, Length: 102282, dtype: int32"
      ]
     },
     "execution_count": 59,
     "metadata": {},
     "output_type": "execute_result"
    }
   ],
   "source": [
    "airbnb_df['Construction year']"
   ]
  },
  {
   "cell_type": "markdown",
   "id": "c895bf52-9276-4fab-8806-16c687246d49",
   "metadata": {},
   "source": [
    "### Price and Service Fee\n",
    "\n",
    "There are about 250 rows with null prices, it is a small enough number that we can remove these rows entirely. As the lowest service fee in this data frame is $10, we can assume null service fees indicate 0. These will also be converted to int aas there are no decimal places."
   ]
  },
  {
   "cell_type": "code",
   "execution_count": 61,
   "id": "3be80569-bf31-464d-b1d5-9ff6267db875",
   "metadata": {
    "tags": []
   },
   "outputs": [
    {
     "data": {
      "text/plain": [
       "238"
      ]
     },
     "execution_count": 61,
     "metadata": {},
     "output_type": "execute_result"
    }
   ],
   "source": [
    "airbnb_df['price'].isnull().sum()"
   ]
  },
  {
   "cell_type": "code",
   "execution_count": 62,
   "id": "6b4bed9c-ef03-4bcf-a089-d96357b52d9d",
   "metadata": {
    "tags": []
   },
   "outputs": [
    {
     "data": {
      "text/plain": [
       "263"
      ]
     },
     "execution_count": 62,
     "metadata": {},
     "output_type": "execute_result"
    }
   ],
   "source": [
    "airbnb_df['service fee'].isnull().sum()"
   ]
  },
  {
   "cell_type": "code",
   "execution_count": 63,
   "id": "4218ca80-634c-45bf-8d80-9268b622e43a",
   "metadata": {},
   "outputs": [
    {
     "data": {
      "text/plain": [
       "0"
      ]
     },
     "execution_count": 63,
     "metadata": {},
     "output_type": "execute_result"
    }
   ],
   "source": [
    "airbnb_df = airbnb_df.dropna(subset=['price'])\n",
    "airbnb_df['price'].isnull().sum()"
   ]
  },
  {
   "cell_type": "code",
   "execution_count": 64,
   "id": "50efe629-7ddd-49b6-a550-dfcfe18cf047",
   "metadata": {},
   "outputs": [
    {
     "data": {
      "text/plain": [
       "0"
      ]
     },
     "execution_count": 64,
     "metadata": {},
     "output_type": "execute_result"
    }
   ],
   "source": [
    "airbnb_df['service fee'] = airbnb_df['service fee'].fillna(0)\n",
    "airbnb_df['service fee'].isnull().sum()"
   ]
  },
  {
   "cell_type": "code",
   "execution_count": 65,
   "id": "f44e4fa5-b27c-42d1-98ae-1d181e0b2ed3",
   "metadata": {
    "tags": []
   },
   "outputs": [],
   "source": [
    "airbnb_df['price'] = airbnb_df['price'].replace('[\\$,]', '', regex=True).astype(int)\n",
    "airbnb_df['service fee'] = airbnb_df['service fee'].replace('[\\$,]', '', regex=True).astype(int)\n"
   ]
  },
  {
   "cell_type": "markdown",
   "id": "06acef2c-d6e2-420b-91c2-1b8b62b7f4ec",
   "metadata": {},
   "source": [
    "### Minimum Nights\n",
    "To remedy \"minumum number\" column, nulls and negative numbers will be replaced with 1 as this is the minimum for the AirBnB."
   ]
  },
  {
   "cell_type": "code",
   "execution_count": 67,
   "id": "487f9ee5-7b63-4832-91c6-5298539825d7",
   "metadata": {
    "tags": []
   },
   "outputs": [
    {
     "data": {
      "text/plain": [
       "389"
      ]
     },
     "execution_count": 67,
     "metadata": {},
     "output_type": "execute_result"
    }
   ],
   "source": [
    "airbnb_df['minimum nights'].isnull().sum()"
   ]
  },
  {
   "cell_type": "code",
   "execution_count": 68,
   "id": "ae80c986-aef1-491d-b994-fd07c6e13ec5",
   "metadata": {
    "tags": []
   },
   "outputs": [],
   "source": [
    "#Minimum must be 1\n",
    "airbnb_df['minimum nights'].fillna(1, inplace=True)"
   ]
  },
  {
   "cell_type": "code",
   "execution_count": 69,
   "id": "27adec86-a4ba-4a11-8efd-9740b2f36e8b",
   "metadata": {
    "tags": []
   },
   "outputs": [
    {
     "data": {
      "text/plain": [
       "0"
      ]
     },
     "execution_count": 69,
     "metadata": {},
     "output_type": "execute_result"
    }
   ],
   "source": [
    "airbnb_df['minimum nights'].isnull().sum()"
   ]
  },
  {
   "cell_type": "markdown",
   "id": "9619f3e7-5590-4793-b277-9728f89dca13",
   "metadata": {},
   "source": [
    "Nulls Replaced"
   ]
  },
  {
   "cell_type": "code",
   "execution_count": 71,
   "id": "16cd854f-fd73-4f9c-9508-963fce4caabd",
   "metadata": {
    "tags": []
   },
   "outputs": [
    {
     "name": "stdout",
     "output_type": "stream",
     "text": [
      "Number of negative values in 'minimum nights' column: 12\n"
     ]
    }
   ],
   "source": [
    "neg_count = (airbnb_df['minimum nights'] < 0).sum()\n",
    "print(f\"Number of negative values in 'minimum nights' column: {neg_count}\")"
   ]
  },
  {
   "cell_type": "markdown",
   "id": "57968d62-66de-4dd2-8abc-1c41739e6831",
   "metadata": {},
   "source": [
    "As there are only 13 values in the negative, we will also replace these with the minimum \"1\" night."
   ]
  },
  {
   "cell_type": "code",
   "execution_count": 73,
   "id": "7a81d811-ec5b-469d-a9df-31417ceae015",
   "metadata": {
    "tags": []
   },
   "outputs": [],
   "source": [
    "#Anything less than 0, go to 1\n",
    "airbnb_df.loc[airbnb_df['minimum nights'] < 0, 'minimum nights'] = 1"
   ]
  },
  {
   "cell_type": "code",
   "execution_count": 74,
   "id": "0b9b3f52-b314-4bc9-9201-487587071c09",
   "metadata": {
    "tags": []
   },
   "outputs": [
    {
     "name": "stdout",
     "output_type": "stream",
     "text": [
      "Number of negative values in 'minimum nights' column: 0\n"
     ]
    }
   ],
   "source": [
    "neg_count = (airbnb_df['minimum nights'] < 0).sum()\n",
    "print(f\"Number of negative values in 'minimum nights' column: {neg_count}\")"
   ]
  },
  {
   "cell_type": "markdown",
   "id": "71a362fe-1140-4dc4-8f7e-59627e1c4cfc",
   "metadata": {},
   "source": [
    "Additionally, AirBnB only allows a maximum of 28 days before requiring a contract.  There appears to be a number of listings that are above that limit."
   ]
  },
  {
   "cell_type": "code",
   "execution_count": 76,
   "id": "443fc6e7-2592-4bd4-887c-a5d08cde6daf",
   "metadata": {
    "tags": []
   },
   "outputs": [
    {
     "name": "stdout",
     "output_type": "stream",
     "text": [
      "Number of listings above 28 in 'minimum nights' column: 13840\n"
     ]
    }
   ],
   "source": [
    "month_count = (airbnb_df['minimum nights'] > 28).sum()\n",
    "print(f\"Number of listings above 28 in 'minimum nights' column: {month_count}\")"
   ]
  },
  {
   "cell_type": "markdown",
   "id": "750512a3-d8fd-4841-a0d1-7e0a4b5c88c2",
   "metadata": {},
   "source": [
    "As the number above 28 is over 10% of our total number of records, further analysis will be necessary on how to handle these records.  AirBnB does allow for longer stays, but this is supposed to be by special contract."
   ]
  },
  {
   "cell_type": "markdown",
   "id": "d5699c6f-5fe2-429c-ad61-7a4569591dce",
   "metadata": {},
   "source": [
    "### Number of Reviews\n",
    "There is a small number of null number of review records, so we can remove these rows."
   ]
  },
  {
   "cell_type": "code",
   "execution_count": 79,
   "id": "ac4f7702-f37b-41a4-8f40-53646fa4320e",
   "metadata": {
    "tags": []
   },
   "outputs": [
    {
     "data": {
      "text/plain": [
       "182"
      ]
     },
     "execution_count": 79,
     "metadata": {},
     "output_type": "execute_result"
    }
   ],
   "source": [
    "airbnb_df['number of reviews'].isnull().sum()"
   ]
  },
  {
   "cell_type": "code",
   "execution_count": 80,
   "id": "916b8593-e190-4b26-afe7-e5ce02633b02",
   "metadata": {
    "tags": []
   },
   "outputs": [
    {
     "data": {
      "text/plain": [
       "0"
      ]
     },
     "execution_count": 80,
     "metadata": {},
     "output_type": "execute_result"
    }
   ],
   "source": [
    "airbnb_df = airbnb_df.dropna(subset=['number of reviews'])\n",
    "airbnb_df['number of reviews'].isnull().sum()"
   ]
  },
  {
   "cell_type": "markdown",
   "id": "f312dc1e-9cac-4455-9848-a2f68adcd8a1",
   "metadata": {},
   "source": [
    "### Last Review Date\n",
    "Last Review Date has a large number of nulls, but is not relevant for this review and will remain untouched."
   ]
  },
  {
   "cell_type": "code",
   "execution_count": 82,
   "id": "39d76bc2-768f-402a-9b2a-4433f19ecc76",
   "metadata": {
    "tags": []
   },
   "outputs": [
    {
     "data": {
      "text/plain": [
       "15702"
      ]
     },
     "execution_count": 82,
     "metadata": {},
     "output_type": "execute_result"
    }
   ],
   "source": [
    "airbnb_df['last review'].isnull().sum()"
   ]
  },
  {
   "cell_type": "markdown",
   "id": "4ca3baff-f9c5-42db-a443-978cd3f97fa7",
   "metadata": {},
   "source": [
    "### Reviews Per Month\n",
    "Reviews per month has a large number of null values, so we cannot simply remove all missing rows.  This column will be handled as necessary for the data exploration."
   ]
  },
  {
   "cell_type": "code",
   "execution_count": 84,
   "id": "e556a5fd-fdfc-43d3-a142-aa3fe5f0582f",
   "metadata": {
    "tags": []
   },
   "outputs": [
    {
     "data": {
      "text/plain": [
       "15697"
      ]
     },
     "execution_count": 84,
     "metadata": {},
     "output_type": "execute_result"
    }
   ],
   "source": [
    "airbnb_df['reviews per month'].isnull().sum()"
   ]
  },
  {
   "cell_type": "markdown",
   "id": "fbe1822f-cebb-4829-8322-d5ab1609f3e4",
   "metadata": {},
   "source": [
    "### Review Rate Number\n",
    "Review Rate number has a small number of null values, so we can remove these rows."
   ]
  },
  {
   "cell_type": "code",
   "execution_count": 86,
   "id": "c1a010e6-8266-4268-8d80-316dd0988331",
   "metadata": {
    "tags": []
   },
   "outputs": [
    {
     "data": {
      "text/plain": [
       "303"
      ]
     },
     "execution_count": 86,
     "metadata": {},
     "output_type": "execute_result"
    }
   ],
   "source": [
    "airbnb_df['review rate number'].isnull().sum()"
   ]
  },
  {
   "cell_type": "code",
   "execution_count": 87,
   "id": "ff938a1f-04d9-41b7-bd44-7a3226fdaa9a",
   "metadata": {},
   "outputs": [
    {
     "data": {
      "text/plain": [
       "0"
      ]
     },
     "execution_count": 87,
     "metadata": {},
     "output_type": "execute_result"
    }
   ],
   "source": [
    "airbnb_df = airbnb_df.dropna(subset=['review rate number'])\n",
    "airbnb_df['review rate number'].isnull().sum()"
   ]
  },
  {
   "cell_type": "markdown",
   "id": "aa335676-fdc2-4c7e-b83f-7088abb4ea09",
   "metadata": {},
   "source": [
    "### Calculated Host Listings Count\n",
    "\n",
    "Calculated host listings count has a small number of null values, so we can remove these rows."
   ]
  },
  {
   "cell_type": "code",
   "execution_count": 89,
   "id": "8db739b2-fdae-4495-bc74-6f195271f1a1",
   "metadata": {
    "tags": []
   },
   "outputs": [
    {
     "data": {
      "text/plain": [
       "251"
      ]
     },
     "execution_count": 89,
     "metadata": {},
     "output_type": "execute_result"
    }
   ],
   "source": [
    "airbnb_df['calculated host listings count'].isnull().sum()"
   ]
  },
  {
   "cell_type": "code",
   "execution_count": 90,
   "id": "145128e0-a6d2-497c-b719-506f357a1e1f",
   "metadata": {
    "tags": []
   },
   "outputs": [
    {
     "data": {
      "text/plain": [
       "0"
      ]
     },
     "execution_count": 90,
     "metadata": {},
     "output_type": "execute_result"
    }
   ],
   "source": [
    "airbnb_df = airbnb_df.dropna(subset=['calculated host listings count'])\n",
    "airbnb_df['calculated host listings count'].isnull().sum()"
   ]
  },
  {
   "cell_type": "markdown",
   "id": "9e923c8b-263d-4706-8d70-199e57498e32",
   "metadata": {},
   "source": [
    "### Availability 365\n",
    "\n",
    "We will address the \"availability 365\" column in a slightly different way.  We can assume negative availability is equal to 0 days available, null vales will simply be removed, and any value above 365 will be brought down to 365 days indicating all year."
   ]
  },
  {
   "cell_type": "code",
   "execution_count": 92,
   "id": "76354c56-bca4-406a-bcb3-de88863623cb",
   "metadata": {
    "tags": []
   },
   "outputs": [
    {
     "name": "stdout",
     "output_type": "stream",
     "text": [
      "Number of negative values in 'availability 365' column: 421\n"
     ]
    }
   ],
   "source": [
    "neg_count = (airbnb_df['availability 365'] < 0).sum()\n",
    "print(f\"Number of negative values in 'availability 365' column: {neg_count}\")"
   ]
  },
  {
   "cell_type": "code",
   "execution_count": 93,
   "id": "e385efa9-629c-48dc-a9ef-b20fd7592d69",
   "metadata": {
    "tags": []
   },
   "outputs": [],
   "source": [
    "airbnb_df.loc[airbnb_df['availability 365'] < 0, 'availability 365'] = 0"
   ]
  },
  {
   "cell_type": "code",
   "execution_count": 94,
   "id": "d5722ca3-6489-4249-b09d-452760639337",
   "metadata": {
    "tags": []
   },
   "outputs": [
    {
     "name": "stdout",
     "output_type": "stream",
     "text": [
      "Number of negative values in 'availability 365' column: 0\n"
     ]
    }
   ],
   "source": [
    "neg_count = (airbnb_df['availability 365'] < 0).sum()\n",
    "print(f\"Number of negative values in 'availability 365' column: {neg_count}\")"
   ]
  },
  {
   "cell_type": "markdown",
   "id": "c0d603b0-70da-4199-bce4-1c29da689c00",
   "metadata": {},
   "source": [
    "Negative rows resolved, now to remove rows with null availability."
   ]
  },
  {
   "cell_type": "code",
   "execution_count": 96,
   "id": "c514f8b1-d96e-4d04-b36c-5cb78bfb79bc",
   "metadata": {
    "tags": []
   },
   "outputs": [
    {
     "data": {
      "text/plain": [
       "356"
      ]
     },
     "execution_count": 96,
     "metadata": {},
     "output_type": "execute_result"
    }
   ],
   "source": [
    "airbnb_df['availability 365'].isnull().sum()"
   ]
  },
  {
   "cell_type": "code",
   "execution_count": 97,
   "id": "da110fd2-ee51-4c96-a0e9-fe5c1e2db1b6",
   "metadata": {
    "tags": []
   },
   "outputs": [
    {
     "data": {
      "text/plain": [
       "0"
      ]
     },
     "execution_count": 97,
     "metadata": {},
     "output_type": "execute_result"
    }
   ],
   "source": [
    "airbnb_df = airbnb_df.dropna(subset=['availability 365'])\n",
    "airbnb_df['availability 365'].isnull().sum()"
   ]
  },
  {
   "cell_type": "code",
   "execution_count": 98,
   "id": "24a15f21-8efe-4a3b-a499-b211629a0263",
   "metadata": {
    "tags": []
   },
   "outputs": [],
   "source": [
    "airbnb_df.loc[airbnb_df['availability 365'] > 365, 'availability 365'] = 365"
   ]
  },
  {
   "cell_type": "markdown",
   "id": "209df852-a62a-410b-bb45-f33c6d18bfba",
   "metadata": {},
   "source": [
    "### House Rules\n",
    "\n",
    "There is another subset we can produce in preparation for any natural language proceessing regaring how the house rules of a listing impact the popularity of the property.  Another data frame is created with this cleaned data with any null house rules removed."
   ]
  },
  {
   "cell_type": "code",
   "execution_count": 100,
   "id": "b09fcb6b-884e-4c89-ba42-99b87de7d893",
   "metadata": {
    "tags": []
   },
   "outputs": [
    {
     "data": {
      "text/plain": [
       "51336"
      ]
     },
     "execution_count": 100,
     "metadata": {},
     "output_type": "execute_result"
    }
   ],
   "source": [
    "airbnb_df['house_rules'].isnull().sum()"
   ]
  },
  {
   "cell_type": "code",
   "execution_count": 101,
   "id": "76a69fc9-2dd4-4384-bafa-f3dd92d5199b",
   "metadata": {},
   "outputs": [],
   "source": [
    "airbnb_hr_df = airbnb_df.dropna(subset=['house_rules'])"
   ]
  },
  {
   "cell_type": "markdown",
   "id": "286659d7-6314-4915-908a-8ffceb32284f",
   "metadata": {},
   "source": [
    "New data frame created, specifically for use with house rules."
   ]
  },
  {
   "cell_type": "code",
   "execution_count": 103,
   "id": "7d663633-8147-4302-9999-363c89d5188e",
   "metadata": {},
   "outputs": [
    {
     "name": "stdout",
     "output_type": "stream",
     "text": [
      "<class 'pandas.core.frame.DataFrame'>\n",
      "Index: 49616 entries, 0 to 102595\n",
      "Data columns (total 25 columns):\n",
      " #   Column                          Non-Null Count  Dtype  \n",
      "---  ------                          --------------  -----  \n",
      " 0   id                              49616 non-null  int64  \n",
      " 1   NAME                            49498 non-null  object \n",
      " 2   host id                         49616 non-null  int64  \n",
      " 3   host_identity_verified          49480 non-null  object \n",
      " 4   host name                       49382 non-null  object \n",
      " 5   neighbourhood group             49616 non-null  object \n",
      " 6   neighbourhood                   49609 non-null  object \n",
      " 7   lat                             49616 non-null  float64\n",
      " 8   long                            49616 non-null  float64\n",
      " 9   country                         49616 non-null  object \n",
      " 10  country code                    49616 non-null  object \n",
      " 11  instant_bookable                49616 non-null  object \n",
      " 12  cancellation_policy             49616 non-null  object \n",
      " 13  room type                       49616 non-null  object \n",
      " 14  Construction year               49616 non-null  int32  \n",
      " 15  price                           49616 non-null  int32  \n",
      " 16  service fee                     49616 non-null  int32  \n",
      " 17  minimum nights                  49616 non-null  float64\n",
      " 18  number of reviews               49616 non-null  float64\n",
      " 19  last review                     40397 non-null  object \n",
      " 20  reviews per month               40399 non-null  float64\n",
      " 21  review rate number              49616 non-null  float64\n",
      " 22  calculated host listings count  49616 non-null  float64\n",
      " 23  availability 365                49616 non-null  float64\n",
      " 24  house_rules                     49616 non-null  object \n",
      "dtypes: float64(8), int32(3), int64(2), object(12)\n",
      "memory usage: 9.3+ MB\n"
     ]
    }
   ],
   "source": [
    "airbnb_hr_df.info()"
   ]
  },
  {
   "cell_type": "code",
   "execution_count": 104,
   "id": "4e515a4b-920e-4a4a-808b-942a6020f56e",
   "metadata": {
    "tags": []
   },
   "outputs": [
    {
     "data": {
      "text/html": [
       "<div>\n",
       "<style scoped>\n",
       "    .dataframe tbody tr th:only-of-type {\n",
       "        vertical-align: middle;\n",
       "    }\n",
       "\n",
       "    .dataframe tbody tr th {\n",
       "        vertical-align: top;\n",
       "    }\n",
       "\n",
       "    .dataframe thead th {\n",
       "        text-align: right;\n",
       "    }\n",
       "</style>\n",
       "<table border=\"1\" class=\"dataframe\">\n",
       "  <thead>\n",
       "    <tr style=\"text-align: right;\">\n",
       "      <th></th>\n",
       "      <th>id</th>\n",
       "      <th>NAME</th>\n",
       "      <th>host id</th>\n",
       "      <th>host_identity_verified</th>\n",
       "      <th>host name</th>\n",
       "      <th>neighbourhood group</th>\n",
       "      <th>neighbourhood</th>\n",
       "      <th>lat</th>\n",
       "      <th>long</th>\n",
       "      <th>country</th>\n",
       "      <th>...</th>\n",
       "      <th>price</th>\n",
       "      <th>service fee</th>\n",
       "      <th>minimum nights</th>\n",
       "      <th>number of reviews</th>\n",
       "      <th>last review</th>\n",
       "      <th>reviews per month</th>\n",
       "      <th>review rate number</th>\n",
       "      <th>calculated host listings count</th>\n",
       "      <th>availability 365</th>\n",
       "      <th>house_rules</th>\n",
       "    </tr>\n",
       "  </thead>\n",
       "  <tbody>\n",
       "    <tr>\n",
       "      <th>102586</th>\n",
       "      <td>6088019</td>\n",
       "      <td>Patio Oasis in Upper East Side</td>\n",
       "      <td>41141109074</td>\n",
       "      <td>verified</td>\n",
       "      <td>Margaret</td>\n",
       "      <td>Manhattan</td>\n",
       "      <td>Upper East Side</td>\n",
       "      <td>40.77703</td>\n",
       "      <td>-73.94773</td>\n",
       "      <td>United States</td>\n",
       "      <td>...</td>\n",
       "      <td>208</td>\n",
       "      <td>42</td>\n",
       "      <td>4.0</td>\n",
       "      <td>8.0</td>\n",
       "      <td>8/8/2016</td>\n",
       "      <td>0.17</td>\n",
       "      <td>5.0</td>\n",
       "      <td>1.0</td>\n",
       "      <td>159.0</td>\n",
       "      <td>- NO SMOKING (You'll have to do that outside i...</td>\n",
       "    </tr>\n",
       "    <tr>\n",
       "      <th>102587</th>\n",
       "      <td>6088571</td>\n",
       "      <td>Adorable One-Bed in Williamsburg!</td>\n",
       "      <td>20914678851</td>\n",
       "      <td>verified</td>\n",
       "      <td>Taylor</td>\n",
       "      <td>Brooklyn</td>\n",
       "      <td>Williamsburg</td>\n",
       "      <td>40.71687</td>\n",
       "      <td>-73.94656</td>\n",
       "      <td>United States</td>\n",
       "      <td>...</td>\n",
       "      <td>388</td>\n",
       "      <td>78</td>\n",
       "      <td>1.0</td>\n",
       "      <td>66.0</td>\n",
       "      <td>6/16/2019</td>\n",
       "      <td>1.35</td>\n",
       "      <td>2.0</td>\n",
       "      <td>1.0</td>\n",
       "      <td>352.0</td>\n",
       "      <td>• Check-in time is 2PM. Check-out time is 11am...</td>\n",
       "    </tr>\n",
       "    <tr>\n",
       "      <th>102588</th>\n",
       "      <td>6089124</td>\n",
       "      <td>Loft Space for Events, Meetings &amp; Shoots</td>\n",
       "      <td>85557432222</td>\n",
       "      <td>unconfirmed</td>\n",
       "      <td>Kalin</td>\n",
       "      <td>Manhattan</td>\n",
       "      <td>Flatiron District</td>\n",
       "      <td>40.74068</td>\n",
       "      <td>-73.98999</td>\n",
       "      <td>United States</td>\n",
       "      <td>...</td>\n",
       "      <td>618</td>\n",
       "      <td>124</td>\n",
       "      <td>1.0</td>\n",
       "      <td>177.0</td>\n",
       "      <td>6/29/2019</td>\n",
       "      <td>3.78</td>\n",
       "      <td>4.0</td>\n",
       "      <td>1.0</td>\n",
       "      <td>365.0</td>\n",
       "      <td>Keep the apartment clean and damage free please.</td>\n",
       "    </tr>\n",
       "    <tr>\n",
       "      <th>102589</th>\n",
       "      <td>6089676</td>\n",
       "      <td>Lrg room 1 block from Prospect Park</td>\n",
       "      <td>74549151787</td>\n",
       "      <td>unconfirmed</td>\n",
       "      <td>Dave</td>\n",
       "      <td>Brooklyn</td>\n",
       "      <td>Flatbush</td>\n",
       "      <td>40.65231</td>\n",
       "      <td>-73.96189</td>\n",
       "      <td>United States</td>\n",
       "      <td>...</td>\n",
       "      <td>306</td>\n",
       "      <td>61</td>\n",
       "      <td>3.0</td>\n",
       "      <td>0.0</td>\n",
       "      <td>NaN</td>\n",
       "      <td>NaN</td>\n",
       "      <td>1.0</td>\n",
       "      <td>1.0</td>\n",
       "      <td>200.0</td>\n",
       "      <td>House Rules 1. Check-in is 4 pm local time. If...</td>\n",
       "    </tr>\n",
       "    <tr>\n",
       "      <th>102590</th>\n",
       "      <td>6090228</td>\n",
       "      <td>Wonderful artists' loft in Brooklyn</td>\n",
       "      <td>9184535139</td>\n",
       "      <td>unconfirmed</td>\n",
       "      <td>Daniel</td>\n",
       "      <td>Brooklyn</td>\n",
       "      <td>Crown Heights</td>\n",
       "      <td>40.66673</td>\n",
       "      <td>-73.96127</td>\n",
       "      <td>United States</td>\n",
       "      <td>...</td>\n",
       "      <td>250</td>\n",
       "      <td>50</td>\n",
       "      <td>1.0</td>\n",
       "      <td>0.0</td>\n",
       "      <td>NaN</td>\n",
       "      <td>NaN</td>\n",
       "      <td>1.0</td>\n",
       "      <td>1.0</td>\n",
       "      <td>276.0</td>\n",
       "      <td>#NAME?</td>\n",
       "    </tr>\n",
       "    <tr>\n",
       "      <th>102591</th>\n",
       "      <td>6090781</td>\n",
       "      <td>Columbus Ave Apt 1 block from Park</td>\n",
       "      <td>50908010324</td>\n",
       "      <td>verified</td>\n",
       "      <td>Lawrence</td>\n",
       "      <td>Manhattan</td>\n",
       "      <td>Upper West Side</td>\n",
       "      <td>40.77408</td>\n",
       "      <td>-73.98181</td>\n",
       "      <td>United States</td>\n",
       "      <td>...</td>\n",
       "      <td>1139</td>\n",
       "      <td>228</td>\n",
       "      <td>5.0</td>\n",
       "      <td>17.0</td>\n",
       "      <td>1/4/2019</td>\n",
       "      <td>0.35</td>\n",
       "      <td>5.0</td>\n",
       "      <td>1.0</td>\n",
       "      <td>134.0</td>\n",
       "      <td>#NAME?</td>\n",
       "    </tr>\n",
       "    <tr>\n",
       "      <th>102592</th>\n",
       "      <td>6091333</td>\n",
       "      <td>3BR/1 Ba in TriBeCa w/ outdoor deck</td>\n",
       "      <td>53266862889</td>\n",
       "      <td>unconfirmed</td>\n",
       "      <td>Nick</td>\n",
       "      <td>Manhattan</td>\n",
       "      <td>Tribeca</td>\n",
       "      <td>40.71845</td>\n",
       "      <td>-74.01183</td>\n",
       "      <td>United States</td>\n",
       "      <td>...</td>\n",
       "      <td>787</td>\n",
       "      <td>157</td>\n",
       "      <td>1.0</td>\n",
       "      <td>0.0</td>\n",
       "      <td>NaN</td>\n",
       "      <td>NaN</td>\n",
       "      <td>2.0</td>\n",
       "      <td>1.0</td>\n",
       "      <td>177.0</td>\n",
       "      <td>Guests should treat my home as if it were thei...</td>\n",
       "    </tr>\n",
       "    <tr>\n",
       "      <th>102593</th>\n",
       "      <td>6091885</td>\n",
       "      <td>Welcoming, Clean, Cheap on St Marks</td>\n",
       "      <td>33188605074</td>\n",
       "      <td>verified</td>\n",
       "      <td>Felipe</td>\n",
       "      <td>Manhattan</td>\n",
       "      <td>East Village</td>\n",
       "      <td>40.72826</td>\n",
       "      <td>-73.98422</td>\n",
       "      <td>United States</td>\n",
       "      <td>...</td>\n",
       "      <td>1099</td>\n",
       "      <td>220</td>\n",
       "      <td>1.0</td>\n",
       "      <td>8.0</td>\n",
       "      <td>9/6/2015</td>\n",
       "      <td>0.16</td>\n",
       "      <td>4.0</td>\n",
       "      <td>2.0</td>\n",
       "      <td>152.0</td>\n",
       "      <td>* No smoking indoors.  * No pets  * No loud/la...</td>\n",
       "    </tr>\n",
       "    <tr>\n",
       "      <th>102594</th>\n",
       "      <td>6092437</td>\n",
       "      <td>Spare room in Williamsburg</td>\n",
       "      <td>12312296767</td>\n",
       "      <td>verified</td>\n",
       "      <td>Krik</td>\n",
       "      <td>Brooklyn</td>\n",
       "      <td>Williamsburg</td>\n",
       "      <td>40.70862</td>\n",
       "      <td>-73.94651</td>\n",
       "      <td>United States</td>\n",
       "      <td>...</td>\n",
       "      <td>844</td>\n",
       "      <td>169</td>\n",
       "      <td>1.0</td>\n",
       "      <td>0.0</td>\n",
       "      <td>NaN</td>\n",
       "      <td>NaN</td>\n",
       "      <td>3.0</td>\n",
       "      <td>1.0</td>\n",
       "      <td>227.0</td>\n",
       "      <td>No Smoking No Parties or Events of any kind Pl...</td>\n",
       "    </tr>\n",
       "    <tr>\n",
       "      <th>102595</th>\n",
       "      <td>6092990</td>\n",
       "      <td>Best Location near Columbia U</td>\n",
       "      <td>77864383453</td>\n",
       "      <td>unconfirmed</td>\n",
       "      <td>Mifan</td>\n",
       "      <td>Manhattan</td>\n",
       "      <td>Morningside Heights</td>\n",
       "      <td>40.80460</td>\n",
       "      <td>-73.96545</td>\n",
       "      <td>United States</td>\n",
       "      <td>...</td>\n",
       "      <td>837</td>\n",
       "      <td>167</td>\n",
       "      <td>1.0</td>\n",
       "      <td>1.0</td>\n",
       "      <td>7/6/2015</td>\n",
       "      <td>0.02</td>\n",
       "      <td>2.0</td>\n",
       "      <td>2.0</td>\n",
       "      <td>365.0</td>\n",
       "      <td>House rules: Guests agree to the following ter...</td>\n",
       "    </tr>\n",
       "  </tbody>\n",
       "</table>\n",
       "<p>10 rows × 25 columns</p>\n",
       "</div>"
      ],
      "text/plain": [
       "             id                                      NAME      host id  \\\n",
       "102586  6088019            Patio Oasis in Upper East Side  41141109074   \n",
       "102587  6088571         Adorable One-Bed in Williamsburg!  20914678851   \n",
       "102588  6089124  Loft Space for Events, Meetings & Shoots  85557432222   \n",
       "102589  6089676       Lrg room 1 block from Prospect Park  74549151787   \n",
       "102590  6090228       Wonderful artists' loft in Brooklyn   9184535139   \n",
       "102591  6090781        Columbus Ave Apt 1 block from Park  50908010324   \n",
       "102592  6091333       3BR/1 Ba in TriBeCa w/ outdoor deck  53266862889   \n",
       "102593  6091885       Welcoming, Clean, Cheap on St Marks  33188605074   \n",
       "102594  6092437                Spare room in Williamsburg  12312296767   \n",
       "102595  6092990             Best Location near Columbia U  77864383453   \n",
       "\n",
       "       host_identity_verified host name neighbourhood group  \\\n",
       "102586               verified  Margaret           Manhattan   \n",
       "102587               verified    Taylor            Brooklyn   \n",
       "102588            unconfirmed     Kalin           Manhattan   \n",
       "102589            unconfirmed      Dave            Brooklyn   \n",
       "102590            unconfirmed    Daniel            Brooklyn   \n",
       "102591               verified  Lawrence           Manhattan   \n",
       "102592            unconfirmed      Nick           Manhattan   \n",
       "102593               verified    Felipe           Manhattan   \n",
       "102594               verified      Krik            Brooklyn   \n",
       "102595            unconfirmed     Mifan           Manhattan   \n",
       "\n",
       "              neighbourhood       lat      long        country  ... price  \\\n",
       "102586      Upper East Side  40.77703 -73.94773  United States  ...   208   \n",
       "102587         Williamsburg  40.71687 -73.94656  United States  ...   388   \n",
       "102588    Flatiron District  40.74068 -73.98999  United States  ...   618   \n",
       "102589             Flatbush  40.65231 -73.96189  United States  ...   306   \n",
       "102590        Crown Heights  40.66673 -73.96127  United States  ...   250   \n",
       "102591      Upper West Side  40.77408 -73.98181  United States  ...  1139   \n",
       "102592              Tribeca  40.71845 -74.01183  United States  ...   787   \n",
       "102593         East Village  40.72826 -73.98422  United States  ...  1099   \n",
       "102594         Williamsburg  40.70862 -73.94651  United States  ...   844   \n",
       "102595  Morningside Heights  40.80460 -73.96545  United States  ...   837   \n",
       "\n",
       "       service fee minimum nights number of reviews  last review  \\\n",
       "102586          42            4.0               8.0     8/8/2016   \n",
       "102587          78            1.0              66.0    6/16/2019   \n",
       "102588         124            1.0             177.0    6/29/2019   \n",
       "102589          61            3.0               0.0          NaN   \n",
       "102590          50            1.0               0.0          NaN   \n",
       "102591         228            5.0              17.0     1/4/2019   \n",
       "102592         157            1.0               0.0          NaN   \n",
       "102593         220            1.0               8.0     9/6/2015   \n",
       "102594         169            1.0               0.0          NaN   \n",
       "102595         167            1.0               1.0     7/6/2015   \n",
       "\n",
       "        reviews per month  review rate number  calculated host listings count  \\\n",
       "102586               0.17                 5.0                             1.0   \n",
       "102587               1.35                 2.0                             1.0   \n",
       "102588               3.78                 4.0                             1.0   \n",
       "102589                NaN                 1.0                             1.0   \n",
       "102590                NaN                 1.0                             1.0   \n",
       "102591               0.35                 5.0                             1.0   \n",
       "102592                NaN                 2.0                             1.0   \n",
       "102593               0.16                 4.0                             2.0   \n",
       "102594                NaN                 3.0                             1.0   \n",
       "102595               0.02                 2.0                             2.0   \n",
       "\n",
       "        availability 365                                        house_rules  \n",
       "102586             159.0  - NO SMOKING (You'll have to do that outside i...  \n",
       "102587             352.0  • Check-in time is 2PM. Check-out time is 11am...  \n",
       "102588             365.0   Keep the apartment clean and damage free please.  \n",
       "102589             200.0  House Rules 1. Check-in is 4 pm local time. If...  \n",
       "102590             276.0                                             #NAME?  \n",
       "102591             134.0                                             #NAME?  \n",
       "102592             177.0  Guests should treat my home as if it were thei...  \n",
       "102593             152.0  * No smoking indoors.  * No pets  * No loud/la...  \n",
       "102594             227.0  No Smoking No Parties or Events of any kind Pl...  \n",
       "102595             365.0  House rules: Guests agree to the following ter...  \n",
       "\n",
       "[10 rows x 25 columns]"
      ]
     },
     "execution_count": 104,
     "metadata": {},
     "output_type": "execute_result"
    }
   ],
   "source": [
    "airbnb_hr_df.tail(10)"
   ]
  },
  {
   "cell_type": "markdown",
   "id": "727da9ab-4484-4c5d-9660-6dd7fa11fc8b",
   "metadata": {},
   "source": [
    "### Special Case for House Rules"
   ]
  },
  {
   "cell_type": "markdown",
   "id": "e411a18f-e4d9-4c83-a43f-d69bdf671ebe",
   "metadata": {},
   "source": [
    "Note when reviewing the data, there are a number of house rules rows with \"#NAME?\" as the only values.  We can remove these values as well."
   ]
  },
  {
   "cell_type": "code",
   "execution_count": 107,
   "id": "22a4ed06-4586-45ed-aad7-3fb7a8379e27",
   "metadata": {
    "tags": []
   },
   "outputs": [
    {
     "name": "stdout",
     "output_type": "stream",
     "text": [
      "Number of #NAME? values in 'house rules' column: 2678\n"
     ]
    }
   ],
   "source": [
    "#How many rows have an excel error???\n",
    "hr_error_count = (airbnb_hr_df['house_rules'] == \"#NAME?\").sum()\n",
    "print(f\"Number of #NAME? values in 'house rules' column: {hr_error_count}\")"
   ]
  },
  {
   "cell_type": "code",
   "execution_count": 108,
   "id": "dbeef15c-c89c-46a4-89c7-6160f26a060f",
   "metadata": {
    "tags": []
   },
   "outputs": [
    {
     "name": "stdout",
     "output_type": "stream",
     "text": [
      "Number of #NAME? values in 'house rules' column: 0\n"
     ]
    }
   ],
   "source": [
    "#Remove the error\n",
    "airbnb_hr_df = airbnb_hr_df[airbnb_hr_df['house_rules'] != '#NAME?']\n",
    "hr_error_count = (airbnb_hr_df['house_rules'] == \"#NAME?\").sum()\n",
    "print(f\"Number of #NAME? values in 'house rules' column: {hr_error_count}\")"
   ]
  },
  {
   "cell_type": "code",
   "execution_count": 109,
   "id": "ba28ba8a-84e5-4146-9d2c-38efee009158",
   "metadata": {
    "tags": []
   },
   "outputs": [
    {
     "data": {
      "text/html": [
       "<div>\n",
       "<style scoped>\n",
       "    .dataframe tbody tr th:only-of-type {\n",
       "        vertical-align: middle;\n",
       "    }\n",
       "\n",
       "    .dataframe tbody tr th {\n",
       "        vertical-align: top;\n",
       "    }\n",
       "\n",
       "    .dataframe thead th {\n",
       "        text-align: right;\n",
       "    }\n",
       "</style>\n",
       "<table border=\"1\" class=\"dataframe\">\n",
       "  <thead>\n",
       "    <tr style=\"text-align: right;\">\n",
       "      <th></th>\n",
       "      <th>id</th>\n",
       "      <th>NAME</th>\n",
       "      <th>host id</th>\n",
       "      <th>host_identity_verified</th>\n",
       "      <th>host name</th>\n",
       "      <th>neighbourhood group</th>\n",
       "      <th>neighbourhood</th>\n",
       "      <th>lat</th>\n",
       "      <th>long</th>\n",
       "      <th>country</th>\n",
       "      <th>...</th>\n",
       "      <th>price</th>\n",
       "      <th>service fee</th>\n",
       "      <th>minimum nights</th>\n",
       "      <th>number of reviews</th>\n",
       "      <th>last review</th>\n",
       "      <th>reviews per month</th>\n",
       "      <th>review rate number</th>\n",
       "      <th>calculated host listings count</th>\n",
       "      <th>availability 365</th>\n",
       "      <th>house_rules</th>\n",
       "    </tr>\n",
       "  </thead>\n",
       "  <tbody>\n",
       "    <tr>\n",
       "      <th>102583</th>\n",
       "      <td>6086362</td>\n",
       "      <td>1 BR apartment sublet.</td>\n",
       "      <td>15723384490</td>\n",
       "      <td>verified</td>\n",
       "      <td>Tassili</td>\n",
       "      <td>Manhattan</td>\n",
       "      <td>Harlem</td>\n",
       "      <td>40.80594</td>\n",
       "      <td>-73.95363</td>\n",
       "      <td>United States</td>\n",
       "      <td>...</td>\n",
       "      <td>247</td>\n",
       "      <td>49</td>\n",
       "      <td>5.0</td>\n",
       "      <td>0.0</td>\n",
       "      <td>NaN</td>\n",
       "      <td>NaN</td>\n",
       "      <td>2.0</td>\n",
       "      <td>1.0</td>\n",
       "      <td>327.0</td>\n",
       "      <td>* No smoking indoors.  * No pets  * No loud/la...</td>\n",
       "    </tr>\n",
       "    <tr>\n",
       "      <th>102585</th>\n",
       "      <td>6087467</td>\n",
       "      <td>Williamsburg family home -3 bedroom</td>\n",
       "      <td>23540078751</td>\n",
       "      <td>verified</td>\n",
       "      <td>Lou</td>\n",
       "      <td>Brooklyn</td>\n",
       "      <td>Williamsburg</td>\n",
       "      <td>40.71558</td>\n",
       "      <td>-73.93926</td>\n",
       "      <td>United States</td>\n",
       "      <td>...</td>\n",
       "      <td>643</td>\n",
       "      <td>129</td>\n",
       "      <td>5.0</td>\n",
       "      <td>4.0</td>\n",
       "      <td>3/27/2016</td>\n",
       "      <td>0.08</td>\n",
       "      <td>5.0</td>\n",
       "      <td>1.0</td>\n",
       "      <td>157.0</td>\n",
       "      <td>* No smoking indoors.  * No pets  * No loud/la...</td>\n",
       "    </tr>\n",
       "    <tr>\n",
       "      <th>102586</th>\n",
       "      <td>6088019</td>\n",
       "      <td>Patio Oasis in Upper East Side</td>\n",
       "      <td>41141109074</td>\n",
       "      <td>verified</td>\n",
       "      <td>Margaret</td>\n",
       "      <td>Manhattan</td>\n",
       "      <td>Upper East Side</td>\n",
       "      <td>40.77703</td>\n",
       "      <td>-73.94773</td>\n",
       "      <td>United States</td>\n",
       "      <td>...</td>\n",
       "      <td>208</td>\n",
       "      <td>42</td>\n",
       "      <td>4.0</td>\n",
       "      <td>8.0</td>\n",
       "      <td>8/8/2016</td>\n",
       "      <td>0.17</td>\n",
       "      <td>5.0</td>\n",
       "      <td>1.0</td>\n",
       "      <td>159.0</td>\n",
       "      <td>- NO SMOKING (You'll have to do that outside i...</td>\n",
       "    </tr>\n",
       "    <tr>\n",
       "      <th>102587</th>\n",
       "      <td>6088571</td>\n",
       "      <td>Adorable One-Bed in Williamsburg!</td>\n",
       "      <td>20914678851</td>\n",
       "      <td>verified</td>\n",
       "      <td>Taylor</td>\n",
       "      <td>Brooklyn</td>\n",
       "      <td>Williamsburg</td>\n",
       "      <td>40.71687</td>\n",
       "      <td>-73.94656</td>\n",
       "      <td>United States</td>\n",
       "      <td>...</td>\n",
       "      <td>388</td>\n",
       "      <td>78</td>\n",
       "      <td>1.0</td>\n",
       "      <td>66.0</td>\n",
       "      <td>6/16/2019</td>\n",
       "      <td>1.35</td>\n",
       "      <td>2.0</td>\n",
       "      <td>1.0</td>\n",
       "      <td>352.0</td>\n",
       "      <td>• Check-in time is 2PM. Check-out time is 11am...</td>\n",
       "    </tr>\n",
       "    <tr>\n",
       "      <th>102588</th>\n",
       "      <td>6089124</td>\n",
       "      <td>Loft Space for Events, Meetings &amp; Shoots</td>\n",
       "      <td>85557432222</td>\n",
       "      <td>unconfirmed</td>\n",
       "      <td>Kalin</td>\n",
       "      <td>Manhattan</td>\n",
       "      <td>Flatiron District</td>\n",
       "      <td>40.74068</td>\n",
       "      <td>-73.98999</td>\n",
       "      <td>United States</td>\n",
       "      <td>...</td>\n",
       "      <td>618</td>\n",
       "      <td>124</td>\n",
       "      <td>1.0</td>\n",
       "      <td>177.0</td>\n",
       "      <td>6/29/2019</td>\n",
       "      <td>3.78</td>\n",
       "      <td>4.0</td>\n",
       "      <td>1.0</td>\n",
       "      <td>365.0</td>\n",
       "      <td>Keep the apartment clean and damage free please.</td>\n",
       "    </tr>\n",
       "    <tr>\n",
       "      <th>102589</th>\n",
       "      <td>6089676</td>\n",
       "      <td>Lrg room 1 block from Prospect Park</td>\n",
       "      <td>74549151787</td>\n",
       "      <td>unconfirmed</td>\n",
       "      <td>Dave</td>\n",
       "      <td>Brooklyn</td>\n",
       "      <td>Flatbush</td>\n",
       "      <td>40.65231</td>\n",
       "      <td>-73.96189</td>\n",
       "      <td>United States</td>\n",
       "      <td>...</td>\n",
       "      <td>306</td>\n",
       "      <td>61</td>\n",
       "      <td>3.0</td>\n",
       "      <td>0.0</td>\n",
       "      <td>NaN</td>\n",
       "      <td>NaN</td>\n",
       "      <td>1.0</td>\n",
       "      <td>1.0</td>\n",
       "      <td>200.0</td>\n",
       "      <td>House Rules 1. Check-in is 4 pm local time. If...</td>\n",
       "    </tr>\n",
       "    <tr>\n",
       "      <th>102592</th>\n",
       "      <td>6091333</td>\n",
       "      <td>3BR/1 Ba in TriBeCa w/ outdoor deck</td>\n",
       "      <td>53266862889</td>\n",
       "      <td>unconfirmed</td>\n",
       "      <td>Nick</td>\n",
       "      <td>Manhattan</td>\n",
       "      <td>Tribeca</td>\n",
       "      <td>40.71845</td>\n",
       "      <td>-74.01183</td>\n",
       "      <td>United States</td>\n",
       "      <td>...</td>\n",
       "      <td>787</td>\n",
       "      <td>157</td>\n",
       "      <td>1.0</td>\n",
       "      <td>0.0</td>\n",
       "      <td>NaN</td>\n",
       "      <td>NaN</td>\n",
       "      <td>2.0</td>\n",
       "      <td>1.0</td>\n",
       "      <td>177.0</td>\n",
       "      <td>Guests should treat my home as if it were thei...</td>\n",
       "    </tr>\n",
       "    <tr>\n",
       "      <th>102593</th>\n",
       "      <td>6091885</td>\n",
       "      <td>Welcoming, Clean, Cheap on St Marks</td>\n",
       "      <td>33188605074</td>\n",
       "      <td>verified</td>\n",
       "      <td>Felipe</td>\n",
       "      <td>Manhattan</td>\n",
       "      <td>East Village</td>\n",
       "      <td>40.72826</td>\n",
       "      <td>-73.98422</td>\n",
       "      <td>United States</td>\n",
       "      <td>...</td>\n",
       "      <td>1099</td>\n",
       "      <td>220</td>\n",
       "      <td>1.0</td>\n",
       "      <td>8.0</td>\n",
       "      <td>9/6/2015</td>\n",
       "      <td>0.16</td>\n",
       "      <td>4.0</td>\n",
       "      <td>2.0</td>\n",
       "      <td>152.0</td>\n",
       "      <td>* No smoking indoors.  * No pets  * No loud/la...</td>\n",
       "    </tr>\n",
       "    <tr>\n",
       "      <th>102594</th>\n",
       "      <td>6092437</td>\n",
       "      <td>Spare room in Williamsburg</td>\n",
       "      <td>12312296767</td>\n",
       "      <td>verified</td>\n",
       "      <td>Krik</td>\n",
       "      <td>Brooklyn</td>\n",
       "      <td>Williamsburg</td>\n",
       "      <td>40.70862</td>\n",
       "      <td>-73.94651</td>\n",
       "      <td>United States</td>\n",
       "      <td>...</td>\n",
       "      <td>844</td>\n",
       "      <td>169</td>\n",
       "      <td>1.0</td>\n",
       "      <td>0.0</td>\n",
       "      <td>NaN</td>\n",
       "      <td>NaN</td>\n",
       "      <td>3.0</td>\n",
       "      <td>1.0</td>\n",
       "      <td>227.0</td>\n",
       "      <td>No Smoking No Parties or Events of any kind Pl...</td>\n",
       "    </tr>\n",
       "    <tr>\n",
       "      <th>102595</th>\n",
       "      <td>6092990</td>\n",
       "      <td>Best Location near Columbia U</td>\n",
       "      <td>77864383453</td>\n",
       "      <td>unconfirmed</td>\n",
       "      <td>Mifan</td>\n",
       "      <td>Manhattan</td>\n",
       "      <td>Morningside Heights</td>\n",
       "      <td>40.80460</td>\n",
       "      <td>-73.96545</td>\n",
       "      <td>United States</td>\n",
       "      <td>...</td>\n",
       "      <td>837</td>\n",
       "      <td>167</td>\n",
       "      <td>1.0</td>\n",
       "      <td>1.0</td>\n",
       "      <td>7/6/2015</td>\n",
       "      <td>0.02</td>\n",
       "      <td>2.0</td>\n",
       "      <td>2.0</td>\n",
       "      <td>365.0</td>\n",
       "      <td>House rules: Guests agree to the following ter...</td>\n",
       "    </tr>\n",
       "  </tbody>\n",
       "</table>\n",
       "<p>10 rows × 25 columns</p>\n",
       "</div>"
      ],
      "text/plain": [
       "             id                                      NAME      host id  \\\n",
       "102583  6086362                    1 BR apartment sublet.  15723384490   \n",
       "102585  6087467       Williamsburg family home -3 bedroom  23540078751   \n",
       "102586  6088019            Patio Oasis in Upper East Side  41141109074   \n",
       "102587  6088571         Adorable One-Bed in Williamsburg!  20914678851   \n",
       "102588  6089124  Loft Space for Events, Meetings & Shoots  85557432222   \n",
       "102589  6089676       Lrg room 1 block from Prospect Park  74549151787   \n",
       "102592  6091333       3BR/1 Ba in TriBeCa w/ outdoor deck  53266862889   \n",
       "102593  6091885       Welcoming, Clean, Cheap on St Marks  33188605074   \n",
       "102594  6092437                Spare room in Williamsburg  12312296767   \n",
       "102595  6092990             Best Location near Columbia U  77864383453   \n",
       "\n",
       "       host_identity_verified host name neighbourhood group  \\\n",
       "102583               verified   Tassili           Manhattan   \n",
       "102585               verified       Lou            Brooklyn   \n",
       "102586               verified  Margaret           Manhattan   \n",
       "102587               verified    Taylor            Brooklyn   \n",
       "102588            unconfirmed     Kalin           Manhattan   \n",
       "102589            unconfirmed      Dave            Brooklyn   \n",
       "102592            unconfirmed      Nick           Manhattan   \n",
       "102593               verified    Felipe           Manhattan   \n",
       "102594               verified      Krik            Brooklyn   \n",
       "102595            unconfirmed     Mifan           Manhattan   \n",
       "\n",
       "              neighbourhood       lat      long        country  ... price  \\\n",
       "102583               Harlem  40.80594 -73.95363  United States  ...   247   \n",
       "102585         Williamsburg  40.71558 -73.93926  United States  ...   643   \n",
       "102586      Upper East Side  40.77703 -73.94773  United States  ...   208   \n",
       "102587         Williamsburg  40.71687 -73.94656  United States  ...   388   \n",
       "102588    Flatiron District  40.74068 -73.98999  United States  ...   618   \n",
       "102589             Flatbush  40.65231 -73.96189  United States  ...   306   \n",
       "102592              Tribeca  40.71845 -74.01183  United States  ...   787   \n",
       "102593         East Village  40.72826 -73.98422  United States  ...  1099   \n",
       "102594         Williamsburg  40.70862 -73.94651  United States  ...   844   \n",
       "102595  Morningside Heights  40.80460 -73.96545  United States  ...   837   \n",
       "\n",
       "       service fee minimum nights number of reviews  last review  \\\n",
       "102583          49            5.0               0.0          NaN   \n",
       "102585         129            5.0               4.0    3/27/2016   \n",
       "102586          42            4.0               8.0     8/8/2016   \n",
       "102587          78            1.0              66.0    6/16/2019   \n",
       "102588         124            1.0             177.0    6/29/2019   \n",
       "102589          61            3.0               0.0          NaN   \n",
       "102592         157            1.0               0.0          NaN   \n",
       "102593         220            1.0               8.0     9/6/2015   \n",
       "102594         169            1.0               0.0          NaN   \n",
       "102595         167            1.0               1.0     7/6/2015   \n",
       "\n",
       "        reviews per month  review rate number  calculated host listings count  \\\n",
       "102583                NaN                 2.0                             1.0   \n",
       "102585               0.08                 5.0                             1.0   \n",
       "102586               0.17                 5.0                             1.0   \n",
       "102587               1.35                 2.0                             1.0   \n",
       "102588               3.78                 4.0                             1.0   \n",
       "102589                NaN                 1.0                             1.0   \n",
       "102592                NaN                 2.0                             1.0   \n",
       "102593               0.16                 4.0                             2.0   \n",
       "102594                NaN                 3.0                             1.0   \n",
       "102595               0.02                 2.0                             2.0   \n",
       "\n",
       "        availability 365                                        house_rules  \n",
       "102583             327.0  * No smoking indoors.  * No pets  * No loud/la...  \n",
       "102585             157.0  * No smoking indoors.  * No pets  * No loud/la...  \n",
       "102586             159.0  - NO SMOKING (You'll have to do that outside i...  \n",
       "102587             352.0  • Check-in time is 2PM. Check-out time is 11am...  \n",
       "102588             365.0   Keep the apartment clean and damage free please.  \n",
       "102589             200.0  House Rules 1. Check-in is 4 pm local time. If...  \n",
       "102592             177.0  Guests should treat my home as if it were thei...  \n",
       "102593             152.0  * No smoking indoors.  * No pets  * No loud/la...  \n",
       "102594             227.0  No Smoking No Parties or Events of any kind Pl...  \n",
       "102595             365.0  House rules: Guests agree to the following ter...  \n",
       "\n",
       "[10 rows x 25 columns]"
      ]
     },
     "execution_count": 109,
     "metadata": {},
     "output_type": "execute_result"
    }
   ],
   "source": [
    "airbnb_hr_df.tail(10)"
   ]
  },
  {
   "cell_type": "markdown",
   "id": "e13c9dd9-ef3f-4dc6-b9e4-0a241ee5a6f6",
   "metadata": {},
   "source": [
    "Rows with \"#NAME?' have been removed from our house rules subset."
   ]
  },
  {
   "cell_type": "code",
   "execution_count": 111,
   "id": "d0d4d65c-9e01-451c-aa0c-fbabfd495cdb",
   "metadata": {
    "tags": []
   },
   "outputs": [
    {
     "name": "stdout",
     "output_type": "stream",
     "text": [
      "Ending number of rows: 100952\n"
     ]
    }
   ],
   "source": [
    "#Grabbing the total number of rows at the start \n",
    "end_rows = airbnb_df.shape[0]\n",
    "print(f\"Ending number of rows: {end_rows}\")"
   ]
  },
  {
   "cell_type": "code",
   "execution_count": 112,
   "id": "5cb25b79-1db6-43c6-b5a7-293910b5415d",
   "metadata": {
    "tags": []
   },
   "outputs": [
    {
     "name": "stdout",
     "output_type": "stream",
     "text": [
      "These data cleansing efforts have reduced the data set by 1647 Rows\n"
     ]
    }
   ],
   "source": [
    "reduction = start_rows-end_rows\n",
    "print(f\"These data cleansing efforts have reduced the data set by {reduction} Rows\")\n"
   ]
  },
  {
   "cell_type": "code",
   "execution_count": 113,
   "id": "02419451-2bf3-4828-adf6-d454e0ae7fdb",
   "metadata": {
    "tags": []
   },
   "outputs": [
    {
     "name": "stdout",
     "output_type": "stream",
     "text": [
      "Percent of missing values from AirBnB Data Frame\n",
      "Column \"id\" is missing 0.00% values.\n",
      "Column \"NAME\" is missing 0.21% values.\n",
      "Column \"host id\" is missing 0.00% values.\n",
      "Column \"host_identity_verified\" is missing 0.24% values.\n",
      "Column \"host name\" is missing 0.38% values.\n",
      "Column \"neighbourhood group\" is missing 0.00% values.\n",
      "Column \"neighbourhood\" is missing 0.01% values.\n",
      "Column \"lat\" is missing 0.00% values.\n",
      "Column \"long\" is missing 0.00% values.\n",
      "Column \"country\" is missing 0.00% values.\n",
      "Column \"country code\" is missing 0.00% values.\n",
      "Column \"instant_bookable\" is missing 0.00% values.\n",
      "Column \"cancellation_policy\" is missing 0.00% values.\n",
      "Column \"room type\" is missing 0.00% values.\n",
      "Column \"Construction year\" is missing 0.00% values.\n",
      "Column \"price\" is missing 0.00% values.\n",
      "Column \"service fee\" is missing 0.00% values.\n",
      "Column \"minimum nights\" is missing 0.00% values.\n",
      "Column \"number of reviews\" is missing 0.00% values.\n",
      "Column \"last review\" is missing 15.27% values.\n",
      "Column \"reviews per month\" is missing 15.26% values.\n",
      "Column \"review rate number\" is missing 0.00% values.\n",
      "Column \"calculated host listings count\" is missing 0.00% values.\n",
      "Column \"availability 365\" is missing 0.00% values.\n",
      "Column \"house_rules\" is missing 50.85% values.\n"
     ]
    }
   ],
   "source": [
    "print(\"Percent of missing values from AirBnB Data Frame\")\n",
    "for column in airbnb_df.columns:\n",
    "    missing_percentage = airbnb_df[column].isnull().mean() * 100\n",
    "    print(f\"Column \\\"{column}\\\" is missing {missing_percentage:.2f}% values.\")"
   ]
  },
  {
   "cell_type": "code",
   "execution_count": 114,
   "id": "f18ce78a-1c38-4b9a-8568-189307fea71f",
   "metadata": {
    "tags": []
   },
   "outputs": [
    {
     "name": "stdout",
     "output_type": "stream",
     "text": [
      "Percent of missing values from the House Rules Only AirBnB Data Frame\n",
      "Column \"id\" is missing 0.00% values.\n",
      "Column \"NAME\" is missing 0.24% values.\n",
      "Column \"host id\" is missing 0.00% values.\n",
      "Column \"host_identity_verified\" is missing 0.27% values.\n",
      "Column \"host name\" is missing 0.47% values.\n",
      "Column \"neighbourhood group\" is missing 0.00% values.\n",
      "Column \"neighbourhood\" is missing 0.01% values.\n",
      "Column \"lat\" is missing 0.00% values.\n",
      "Column \"long\" is missing 0.00% values.\n",
      "Column \"country\" is missing 0.00% values.\n",
      "Column \"country code\" is missing 0.00% values.\n",
      "Column \"instant_bookable\" is missing 0.00% values.\n",
      "Column \"cancellation_policy\" is missing 0.00% values.\n",
      "Column \"room type\" is missing 0.00% values.\n",
      "Column \"Construction year\" is missing 0.00% values.\n",
      "Column \"price\" is missing 0.00% values.\n",
      "Column \"service fee\" is missing 0.00% values.\n",
      "Column \"minimum nights\" is missing 0.00% values.\n",
      "Column \"number of reviews\" is missing 0.00% values.\n",
      "Column \"last review\" is missing 18.38% values.\n",
      "Column \"reviews per month\" is missing 18.38% values.\n",
      "Column \"review rate number\" is missing 0.00% values.\n",
      "Column \"calculated host listings count\" is missing 0.00% values.\n",
      "Column \"availability 365\" is missing 0.00% values.\n",
      "Column \"house_rules\" is missing 0.00% values.\n"
     ]
    }
   ],
   "source": [
    "print(\"Percent of missing values from the House Rules Only AirBnB Data Frame\")\n",
    "for column in airbnb_hr_df.columns:\n",
    "    missing_percentage = airbnb_hr_df[column].isnull().mean() * 100\n",
    "    print(f\"Column \\\"{column}\\\" is missing {missing_percentage:.2f}% values.\")"
   ]
  },
  {
   "cell_type": "markdown",
   "id": "396f9d1f-5125-4f1c-90e0-6ed10519702d",
   "metadata": {},
   "source": [
    "# Exporting new Data Sets"
   ]
  },
  {
   "cell_type": "code",
   "execution_count": 116,
   "id": "fbcc2b3a-bbe3-4843-b5bc-f898eebb3b52",
   "metadata": {},
   "outputs": [
    {
     "data": {
      "text/plain": [
       "46938"
      ]
     },
     "execution_count": 116,
     "metadata": {},
     "output_type": "execute_result"
    }
   ],
   "source": [
    "airbnb_hr_df.shape[0]"
   ]
  },
  {
   "cell_type": "code",
   "execution_count": 117,
   "id": "2443558c-9c4e-4002-ba58-75f4ebf52881",
   "metadata": {},
   "outputs": [
    {
     "data": {
      "text/plain": [
       "100952"
      ]
     },
     "execution_count": 117,
     "metadata": {},
     "output_type": "execute_result"
    }
   ],
   "source": [
    "airbnb_df.shape[0]"
   ]
  },
  {
   "cell_type": "code",
   "execution_count": 118,
   "id": "6c70a269-5e02-4dd5-b1a8-71fd6d9cdaa0",
   "metadata": {},
   "outputs": [],
   "source": [
    "#airbnb_hr_df.to_csv('AirBnB_Open_Data_House_Rules.csv', index=False)"
   ]
  },
  {
   "cell_type": "code",
   "execution_count": 119,
   "id": "3e017d13-3160-4be7-909f-a2fa8d1bebdb",
   "metadata": {},
   "outputs": [],
   "source": [
    "#airbnb_df.to_csv('AirBnB_Open_Data_Cleaned.csv', index=False)"
   ]
  },
  {
   "cell_type": "markdown",
   "id": "af90e700-739e-468f-b574-4327004f8549",
   "metadata": {},
   "source": [
    "## Exploratory Data Analysis (EDA)"
   ]
  },
  {
   "cell_type": "markdown",
   "id": "b6237499-457b-4f36-b8d1-2bd30a0b71b4",
   "metadata": {},
   "source": [
    "For this brief exploratory analysis, the focus will be on the dataa surrounding the neighborhoods and boroughs, note that in this data set \"Neighborhood Group\" is effectivly the borough. "
   ]
  },
  {
   "cell_type": "markdown",
   "id": "3064836b-55c8-4e1e-aa8d-189a4985d981",
   "metadata": {},
   "source": [
    "### Summary Statistics of Listing Price by Borough"
   ]
  },
  {
   "cell_type": "code",
   "execution_count": 123,
   "id": "13b05c88-105d-49af-8285-051a50cf778f",
   "metadata": {
    "tags": []
   },
   "outputs": [
    {
     "name": "stdout",
     "output_type": "stream",
     "text": [
      "                       count        mean         std   min    25%    50%  \\\n",
      "neighbourhood group                                                        \n",
      "Bronx                 2663.0  630.895231  323.319098  50.0  359.0  642.0   \n",
      "Brooklyn             41178.0  626.534679  332.046345  50.0  341.0  626.0   \n",
      "Manhattan            43096.0  622.714034  331.280018  50.0  338.0  622.0   \n",
      "Queens               13073.0  630.130651  334.209296  50.0  340.0  628.0   \n",
      "Staten Island          942.0  623.936306  326.613054  50.0  343.5  628.0   \n",
      "\n",
      "                        75%     max  \n",
      "neighbourhood group                  \n",
      "Bronx                907.50  1200.0  \n",
      "Brooklyn             913.00  1200.0  \n",
      "Manhattan            911.00  1200.0  \n",
      "Queens               922.00  1200.0  \n",
      "Staten Island        909.25  1200.0  \n"
     ]
    }
   ],
   "source": [
    "summary_stats = airbnb_df.groupby('neighbourhood group')['price'].describe()\n",
    "print(summary_stats)"
   ]
  },
  {
   "cell_type": "code",
   "execution_count": 124,
   "id": "d7b4cb93-89d3-4001-a70b-9073f1786f00",
   "metadata": {
    "tags": []
   },
   "outputs": [
    {
     "data": {
      "image/png": "[encoded data removed]",
      "text/plain": [
       "<Figure size 1800x1000 with 1 Axes>"
      ]
     },
     "metadata": {},
     "output_type": "display_data"
    }
   ],
   "source": [
    "#Boxplot of all groups by price\n",
    "#Making it bigger to see if there is any difference???\n",
    "plt.figure(figsize=(18, 10))\n",
    "sns.boxplot(x='neighbourhood group', y='price', data=airbnb_df)\n",
    "plt.title('Boxplot of Price by Borough')\n",
    "plt.xlabel('Neighborhood Group (Borough)')\n",
    "plt.ylabel('Price')\n",
    "plt.xticks(rotation=45)\n",
    "plt.show()"
   ]
  },
  {
   "cell_type": "markdown",
   "id": "32dd0b42-9140-4b85-bc68-2f639fb973cf",
   "metadata": {},
   "source": [
    "### Findings\n",
    "As each borough has thousands (except Staten Island with 942) of listings, its suprising to see how similar the pricing data between them. To get a better comparison, let's take a look at the neighborhoods.\n",
    "\n",
    "### Summary Statistics of Listing Price by Neighborhood"
   ]
  },
  {
   "cell_type": "code",
   "execution_count": 126,
   "id": "5fd4c4f4-cdf8-4d45-bd86-c4b6da76f146",
   "metadata": {
    "tags": []
   },
   "outputs": [
    {
     "name": "stdout",
     "output_type": "stream",
     "text": [
      "                  count        mean         std    min    25%     50%  \\\n",
      "neighbourhood                                                           \n",
      "Allerton           93.0  650.387097  373.245695   52.0  335.0   646.0   \n",
      "Arden Heights       9.0  804.888889  277.260908  329.0  604.0   889.0   \n",
      "Arrochar           50.0  626.840000  296.239379  116.0  368.5   648.0   \n",
      "Arverne           221.0  647.837104  324.624091   86.0  361.0   676.0   \n",
      "Astoria          1841.0  638.609451  333.240110   50.0  363.0   645.0   \n",
      "...                 ...         ...         ...    ...    ...     ...   \n",
      "Windsor Terrace   321.0  574.183801  338.517292   51.0  276.0   542.0   \n",
      "Woodhaven         190.0  628.510526  342.171338   51.0  316.0   627.0   \n",
      "Woodlawn           29.0  587.137931  326.634541  120.0  376.0   684.0   \n",
      "Woodrow             3.0  709.333333  546.750705   78.0  551.5  1025.0   \n",
      "Woodside          575.0  636.488696  334.948958   51.0  348.5   639.0   \n",
      "\n",
      "                     75%     max  \n",
      "neighbourhood                     \n",
      "Allerton         1000.00  1195.0  \n",
      "Arden Heights     961.00  1136.0  \n",
      "Arrochar          878.75  1196.0  \n",
      "Arverne           959.00  1196.0  \n",
      "Astoria           923.00  1200.0  \n",
      "...                  ...     ...  \n",
      "Windsor Terrace   914.00  1194.0  \n",
      "Woodhaven         910.00  1199.0  \n",
      "Woodlawn          759.00  1121.0  \n",
      "Woodrow          1025.00  1025.0  \n",
      "Woodside          929.00  1200.0  \n",
      "\n",
      "[224 rows x 8 columns]\n"
     ]
    }
   ],
   "source": [
    "summary_stats = airbnb_df.groupby('neighbourhood')['price'].describe()\n",
    "print(summary_stats)"
   ]
  },
  {
   "cell_type": "markdown",
   "id": "cca4d953-345d-4185-886b-5c79c7d43777",
   "metadata": {},
   "source": [
    "We can already see this data has much more variety."
   ]
  },
  {
   "cell_type": "code",
   "execution_count": 128,
   "id": "a9f73bb8-62e3-4335-aefe-9780f383dd00",
   "metadata": {
    "tags": []
   },
   "outputs": [
    {
     "data": {
      "text/html": [
       "<div>\n",
       "<style scoped>\n",
       "    .dataframe tbody tr th:only-of-type {\n",
       "        vertical-align: middle;\n",
       "    }\n",
       "\n",
       "    .dataframe tbody tr th {\n",
       "        vertical-align: top;\n",
       "    }\n",
       "\n",
       "    .dataframe thead th {\n",
       "        text-align: right;\n",
       "    }\n",
       "</style>\n",
       "<table border=\"1\" class=\"dataframe\">\n",
       "  <thead>\n",
       "    <tr style=\"text-align: right;\">\n",
       "      <th></th>\n",
       "      <th>neighbourhood</th>\n",
       "      <th>price</th>\n",
       "      <th>count</th>\n",
       "    </tr>\n",
       "  </thead>\n",
       "  <tbody>\n",
       "    <tr>\n",
       "      <th>144</th>\n",
       "      <td>New Dorp</td>\n",
       "      <td>1044.0</td>\n",
       "      <td>4</td>\n",
       "    </tr>\n",
       "    <tr>\n",
       "      <th>35</th>\n",
       "      <td>Chelsea, Staten Island</td>\n",
       "      <td>1042.0</td>\n",
       "      <td>1</td>\n",
       "    </tr>\n",
       "    <tr>\n",
       "      <th>222</th>\n",
       "      <td>Woodrow</td>\n",
       "      <td>1025.0</td>\n",
       "      <td>3</td>\n",
       "    </tr>\n",
       "    <tr>\n",
       "      <th>83</th>\n",
       "      <td>Fort Wadsworth</td>\n",
       "      <td>1024.0</td>\n",
       "      <td>2</td>\n",
       "    </tr>\n",
       "    <tr>\n",
       "      <th>110</th>\n",
       "      <td>Jamaica Hills</td>\n",
       "      <td>971.0</td>\n",
       "      <td>21</td>\n",
       "    </tr>\n",
       "    <tr>\n",
       "      <th>...</th>\n",
       "      <td>...</td>\n",
       "      <td>...</td>\n",
       "      <td>...</td>\n",
       "    </tr>\n",
       "    <tr>\n",
       "      <th>175</th>\n",
       "      <td>Rossville</td>\n",
       "      <td>247.0</td>\n",
       "      <td>3</td>\n",
       "    </tr>\n",
       "    <tr>\n",
       "      <th>21</th>\n",
       "      <td>Breezy Point</td>\n",
       "      <td>232.0</td>\n",
       "      <td>9</td>\n",
       "    </tr>\n",
       "    <tr>\n",
       "      <th>187</th>\n",
       "      <td>Spuyten Duyvil</td>\n",
       "      <td>215.0</td>\n",
       "      <td>9</td>\n",
       "    </tr>\n",
       "    <tr>\n",
       "      <th>168</th>\n",
       "      <td>Richmondtown</td>\n",
       "      <td>212.0</td>\n",
       "      <td>5</td>\n",
       "    </tr>\n",
       "    <tr>\n",
       "      <th>117</th>\n",
       "      <td>Lighthouse Hill</td>\n",
       "      <td>127.0</td>\n",
       "      <td>3</td>\n",
       "    </tr>\n",
       "  </tbody>\n",
       "</table>\n",
       "<p>224 rows × 3 columns</p>\n",
       "</div>"
      ],
      "text/plain": [
       "              neighbourhood   price  count\n",
       "144                New Dorp  1044.0      4\n",
       "35   Chelsea, Staten Island  1042.0      1\n",
       "222                 Woodrow  1025.0      3\n",
       "83           Fort Wadsworth  1024.0      2\n",
       "110           Jamaica Hills   971.0     21\n",
       "..                      ...     ...    ...\n",
       "175               Rossville   247.0      3\n",
       "21             Breezy Point   232.0      9\n",
       "187          Spuyten Duyvil   215.0      9\n",
       "168            Richmondtown   212.0      5\n",
       "117         Lighthouse Hill   127.0      3\n",
       "\n",
       "[224 rows x 3 columns]"
      ]
     },
     "metadata": {},
     "output_type": "display_data"
    }
   ],
   "source": [
    "#first grab median prices \n",
    "median_prices = airbnb_df.groupby('neighbourhood')['price'].median().reset_index()\n",
    "#adding counts\n",
    "neighbourhood_counts = airbnb_df['neighbourhood'].value_counts().reset_index()\n",
    "neighbourhood_counts.columns = ['neighbourhood', 'count']\n",
    "#Make one table\n",
    "median_prices = median_prices.merge(neighbourhood_counts, on='neighbourhood')\n",
    "median_prices = median_prices.sort_values(by='price', ascending=False)\n",
    "display(median_prices)"
   ]
  },
  {
   "cell_type": "markdown",
   "id": "e8df119e-f64a-4f9a-9a06-854980b282eb",
   "metadata": {},
   "source": [
    "Count was added to the neighborhood pricing, to evaluate some potential outliers. As we can see Chelsea only has a single listing and Fort Wadsworth has 2 listings, which can be introducing bias to our analysis.\n",
    "\n",
    "As there are over 200 neighborhoods, only the top and bottom 10 boxplots will be produced."
   ]
  },
  {
   "cell_type": "code",
   "execution_count": 130,
   "id": "ba657a31-a2cd-41dd-8e52-24208a68f342",
   "metadata": {
    "tags": []
   },
   "outputs": [
    {
     "data": {
      "image/png": "[encoded data removed]",
      "text/plain": [
       "<Figure size 1200x800 with 1 Axes>"
      ]
     },
     "metadata": {},
     "output_type": "display_data"
    }
   ],
   "source": [
    "median_prices = airbnb_df.groupby('neighbourhood')['price'].median().sort_values(ascending=False).head(10)\n",
    "\n",
    "top_10_neighborhoods = median_prices.index\n",
    "filtered_df = airbnb_df[airbnb_df['neighbourhood'].isin(top_10_neighborhoods)]\n",
    "\n",
    "plt.figure(figsize=(12, 8))\n",
    "sns.boxplot(x='neighbourhood', y='price', data=filtered_df, order=top_10_neighborhoods)\n",
    "plt.xticks(rotation=45)\n",
    "plt.title('Box Plots of Top 10 Neighborhoods by Median Prices')\n",
    "plt.xlabel('Neighborhood')\n",
    "plt.ylabel('Price')\n",
    "plt.show()"
   ]
  },
  {
   "cell_type": "code",
   "execution_count": 131,
   "id": "d5e43f38-4046-4a3c-b711-9358c57115f4",
   "metadata": {
    "tags": []
   },
   "outputs": [
    {
     "data": {
      "image/png": "[encoded data removed]",
      "text/plain": [
       "<Figure size 1200x800 with 1 Axes>"
      ]
     },
     "metadata": {},
     "output_type": "display_data"
    }
   ],
   "source": [
    "mean_prices = airbnb_df.groupby('neighbourhood')['price'].median().sort_values(ascending=True).head(10)\n",
    "\n",
    "bottom_10_neighborhoods = mean_prices.index\n",
    "filtered_df = airbnb_df[airbnb_df['neighbourhood'].isin(bottom_10_neighborhoods)]\n",
    "\n",
    "plt.figure(figsize=(12, 8))\n",
    "sns.boxplot(x='neighbourhood', y='price', data=filtered_df, order=bottom_10_neighborhoods)\n",
    "plt.xticks(rotation=45)\n",
    "plt.title('Box Plots of Bottom 10 Neighborhoods by Median Prices')\n",
    "plt.xlabel('Neighborhood')\n",
    "plt.ylabel('Price')\n",
    "plt.show()"
   ]
  },
  {
   "cell_type": "markdown",
   "id": "2995f363-38e4-437d-b083-a403a95b4710",
   "metadata": {},
   "source": [
    "### Findings\n",
    "The goal of these boxplots are to ensure that there is some price variety between the regions of New York. The neighborhoods have a clear distinction where as the Borough level has no appreciable difference in price.\n"
   ]
  },
  {
   "cell_type": "markdown",
   "id": "f9d76cac-9236-4d0e-a142-fba1a4d731a1",
   "metadata": {},
   "source": [
    "### Histogram of Construction Year by Borough\n",
    "As the prices by borough had little variation, this plot will explore if any boroughs represent more recent construction on AirBnB compared to other years."
   ]
  },
  {
   "cell_type": "code",
   "execution_count": 250,
   "id": "c1948ebc-670b-46d6-9429-2c1e9af9e7b9",
   "metadata": {},
   "outputs": [
    {
     "data": {
      "image/png": "[encoded data removed]",
      "text/plain": [
       "<Figure size 1200x600 with 1 Axes>"
      ]
     },
     "metadata": {},
     "output_type": "display_data"
    }
   ],
   "source": [
    "#pivot table for construction, borough, and year\n",
    "conyr_neigh_df = airbnb_df.pivot_table(index='Construction year', columns='neighbourhood group', aggfunc='size', fill_value=0)\n",
    "#play with the color\n",
    "sns.set_palette('colorblind')\n",
    "conyr_neigh_df.plot(kind='bar', stacked=True, figsize=(12, 6))\n",
    "color=sns.color_palette('colorblind', n_colors=len(conyr_neigh_df.columns))\n",
    "plt.xlabel('Construction Year')\n",
    "plt.ylabel('Count of Listings')\n",
    "plt.title('Histogram of Construction Years by Borough')\n",
    "plt.legend(title='Neighborhood Group (Borough)')\n",
    "plt.xticks(rotation=45)\n",
    "plt.show()"
   ]
  },
  {
   "cell_type": "markdown",
   "id": "a609f238-4564-479f-888c-046ada46dfc1",
   "metadata": {},
   "source": [
    "### Findings\n",
    "Surprisingly, the listings on AirBnB have about the same amount of representaion between all construction years at approximatly 5000 listings. The proportion of listings is also consitent by construction year.  Staten Island and the Bronx have the least number of listings in each year, followed by Queens and finally Brooklyn and Manhattan.  One surprising item from this analysis is that the number of listings is not proportional to the population of each borough [2]. Brooklyn and Queens have well over 2 Million people, where as the Bronx and Manhattan each have around 1.5 Million residents.  Manhaattan has the most listings, this could be due to its popularity as a travel desination.  Reegardless, it could be an area of further analysis."
   ]
  },
  {
   "cell_type": "markdown",
   "id": "23871f7d-7e5a-4385-8b98-64b36ab62928",
   "metadata": {},
   "source": [
    "### Construction Year to Price\n",
    "\n",
    "Further exploring the construction years, the next plots will include Price."
   ]
  },
  {
   "cell_type": "code",
   "execution_count": 137,
   "id": "3ab45853-229e-46fc-99f5-c0b267d952f6",
   "metadata": {
    "tags": []
   },
   "outputs": [
    {
     "data": {
      "image/png": "[encoded data removed]",
      "text/plain": [
       "<Figure size 1200x600 with 1 Axes>"
      ]
     },
     "metadata": {},
     "output_type": "display_data"
    }
   ],
   "source": [
    "plt.figure(figsize=(12, 6))\n",
    "sns.boxplot(x='Construction year', y='price', data=airbnb_df)\n",
    "plt.title('Boxplot of Price by Construction Year')\n",
    "plt.xlabel('Construction Year')\n",
    "plt.ylabel('Price')\n",
    "plt.xticks(rotation=45)\n",
    "plt.show()"
   ]
  },
  {
   "cell_type": "code",
   "execution_count": 138,
   "id": "db1352c8-75b4-4d46-8302-1289479bbbad",
   "metadata": {
    "tags": []
   },
   "outputs": [
    {
     "data": {
      "image/png": "[encoded data removed]",
      "text/plain": [
       "<Figure size 1200x600 with 1 Axes>"
      ]
     },
     "metadata": {},
     "output_type": "display_data"
    }
   ],
   "source": [
    "#group and calculate by year and price\n",
    "median_price_cons = airbnb_df.groupby('Construction year')['price'].median().reset_index()\n",
    "\n",
    "#Make sure its sorted\n",
    "median_price_cons = median_price_cons.sort_values(by='price', ascending=False)\n",
    "\n",
    "#  Bar chart\n",
    "plt.figure(figsize=(12, 6))\n",
    "sns.barplot(x='Construction year', y='price', data=median_price_cons, order=median_price_cons['Construction year'])\n",
    "plt.title('Median Price by Construction Year')\n",
    "plt.xlabel('Construction Year')\n",
    "plt.ylabel('Median Price')\n",
    "plt.xticks(rotation=45)\n",
    "plt.show()"
   ]
  },
  {
   "cell_type": "markdown",
   "id": "5d9b51c2-3d82-47bd-a2d6-de892f76b162",
   "metadata": {},
   "source": [
    "### Findings\n",
    "Boxplots of the data do not indicate any special findings, every year runs the maximum and minimum prices you can set on AirBnB, 1200 and 50 respectively. One would expect that newer construction would be more expensive to rent, but there does not appear to be a major difference between years.  The second plot, sorting by median price begins to show this expected relationship with 2022 and 2021 being second and third, but it is a surprise that 2006, 2008, and 2004 all appear in the top 5 median price.  An area of further analysis would be to include the room type.  It could be that entire homes were built earlier and could be the cause of this elevated price. \n",
    "\n",
    "Overall, one of the more surprising things about this data set is that it is incredibly consitant.  It gives a concern that this data was manipulated in some way prior to being published."
   ]
  },
  {
   "cell_type": "markdown",
   "id": "b904f08c-e9a8-4f4a-b41b-1acd87fa2d8b",
   "metadata": {
    "tags": []
   },
   "source": [
    "### Correlation Analysis"
   ]
  },
  {
   "cell_type": "markdown",
   "id": "6279776b-2b5f-4af9-823e-ab4b5164c378",
   "metadata": {},
   "source": [
    "In order to perform a complete Correlation Analaysis and build a plot, we will have to drop all possible null values, removing the null records not previously addressed in the \"Reviews per month\" column."
   ]
  },
  {
   "cell_type": "code",
   "execution_count": 142,
   "id": "9b53889f-6a34-4558-a8e8-87cce0d8bdfe",
   "metadata": {
    "tags": []
   },
   "outputs": [],
   "source": [
    "#pick out the numeric columns that arent identifiers\n",
    "selected_columns = ['price', 'service fee', 'minimum nights', 'number of reviews', \n",
    "                    'reviews per month', 'review rate number', \n",
    "                    'calculated host listings count', 'availability 365']\n",
    "numeric_var_df = airbnb_df[selected_columns]"
   ]
  },
  {
   "cell_type": "code",
   "execution_count": 143,
   "id": "d4d75eb7-5efe-45db-b675-1bc6ef579def",
   "metadata": {
    "tags": []
   },
   "outputs": [],
   "source": [
    "#Remove any nulls\n",
    "numeric_var_df = numeric_var_df.dropna()"
   ]
  },
  {
   "cell_type": "code",
   "execution_count": 144,
   "id": "10db4d6b-ef66-4583-9bad-4423157e6a37",
   "metadata": {
    "tags": []
   },
   "outputs": [],
   "source": [
    "correlation_matrix = numeric_var_df.corr()"
   ]
  },
  {
   "cell_type": "code",
   "execution_count": 145,
   "id": "fca6ba8b-f117-4e16-8c02-120f4dc7d89d",
   "metadata": {
    "tags": []
   },
   "outputs": [
    {
     "data": {
      "image/png": "[encoded data removed]",
      "text/plain": [
       "<Figure size 1000x800 with 2 Axes>"
      ]
     },
     "metadata": {},
     "output_type": "display_data"
    }
   ],
   "source": [
    "plt.figure(figsize=(10, 8))\n",
    "sns.heatmap(correlation_matrix, annot=True, cmap='coolwarm', linewidths=0.5)\n",
    "plt.title('Correlation Matrix')\n",
    "plt.show()"
   ]
  },
  {
   "cell_type": "markdown",
   "id": "c863826d-5591-4990-860a-2fcc316d5072",
   "metadata": {},
   "source": [
    "### Findings\n",
    "\n",
    "Unfortunatly, the correlation matrix doesn't show many surprising relationships. Price and Service Fee have an incredibly strong relationship at 0.99 and are independant, but could be explained that as the property increases in rental cost so too does the cost to clean the property. Number of Reviews and Reviews Per months have a coefficient of 0.59, but this relationship is dependent and thus of little value. No other correlations have elevated coefficients."
   ]
  },
  {
   "cell_type": "markdown",
   "id": "10fb1098-9c85-4ef3-87d0-b9fd89405466",
   "metadata": {},
   "source": [
    "# Refereces"
   ]
  },
  {
   "cell_type": "markdown",
   "id": "991a9c81-1439-4f33-ad48-6749ad5211f7",
   "metadata": {},
   "source": [
    "[1] A. Azmoudeh, “Airbnb Open Data.” New York, Feb. 28, 2022 \n",
    "https://www.kaggle.com/datasets/arianazmoudeh/airbnbopendata/data (accessed Sep. 19, 2024)."
   ]
  },
  {
   "cell_type": "markdown",
   "id": "7eeff6b7-b976-4cd4-9b34-58b904edf1f7",
   "metadata": {},
   "source": [
    "[2] “U.S. Census Bureau quickfacts,” U.S. Census Bureau\n",
    "https://www.census.gov/quickfacts/fact/table/queenscountynewyork,kingscountynewyork,bronxcountynewyork,newyorkcountynewyork,richmondcountynewyork,newyorkcitynewyork/INC110219 (accessed Sep. 30, 2024). "
   ]
  }
 ],
 "metadata": {
  "kernelspec": {
   "display_name": "Python 3 (ipykernel)",
   "language": "python",
   "name": "python3"
  },
  "language_info": {
   "codemirror_mode": {
    "name": "ipython",
    "version": 3
   },
   "file_extension": ".py",
   "mimetype": "text/x-python",
   "name": "python",
   "nbconvert_exporter": "python",
   "pygments_lexer": "ipython3",
   "version": "3.11.5"
  }
 },
 "nbformat": 4,
 "nbformat_minor": 5
}
